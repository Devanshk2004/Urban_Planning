{
 "cells": [
  {
   "cell_type": "markdown",
   "metadata": {},
   "source": [
    "# Import Libraries"
   ]
  },
  {
   "cell_type": "code",
   "execution_count": 1,
   "metadata": {},
   "outputs": [
    {
     "name": "stdout",
     "output_type": "stream",
     "text": [
      "WARNING:tensorflow:From c:\\Users\\Devansh\\AppData\\Local\\Programs\\Python\\Python311\\Lib\\site-packages\\keras\\src\\losses.py:2976: The name tf.losses.sparse_softmax_cross_entropy is deprecated. Please use tf.compat.v1.losses.sparse_softmax_cross_entropy instead.\n",
      "\n"
     ]
    }
   ],
   "source": [
    "import pandas as pd\n",
    "import numpy as np\n",
    "from sklearn.model_selection import train_test_split\n",
    "from sklearn.preprocessing import LabelEncoder, StandardScaler\n",
    "import tensorflow as tf\n",
    "from tensorflow.keras.models import Sequential\n",
    "from tensorflow.keras.layers import Dense\n",
    "import joblib\n"
   ]
  },
  {
   "cell_type": "markdown",
   "metadata": {},
   "source": [
    "# Load And Process DATA"
   ]
  },
  {
   "cell_type": "code",
   "execution_count": 2,
   "metadata": {},
   "outputs": [],
   "source": [
    "# Load the CSV\n",
    "df = pd.read_csv(\"groundwater_yearly_averages.csv\")\n",
    "\n",
    "# Drop rows with missing important values\n",
    "df.dropna(subset=['Station_name', 'lat', 'long', 'Year', 'level'], inplace=True)\n",
    "\n",
    "# Encode station name\n",
    "station_encoder = LabelEncoder()\n",
    "df['Station_ID'] = station_encoder.fit_transform(df['Station_name'])\n",
    "\n",
    "# Features: station ID, lat, long, year\n",
    "X = df[['Station_ID', 'lat', 'long', 'Year']].values\n",
    "y = df['level'].values\n",
    "\n",
    "# Scale the features\n",
    "scaler = StandardScaler()\n",
    "X_scaled = scaler.fit_transform(X)\n"
   ]
  },
  {
   "cell_type": "markdown",
   "metadata": {},
   "source": [
    "# Split the data"
   ]
  },
  {
   "cell_type": "code",
   "execution_count": 3,
   "metadata": {},
   "outputs": [],
   "source": [
    "X_train, X_test, y_train, y_test = train_test_split(X_scaled, y, test_size=0.2, random_state=42)\n"
   ]
  },
  {
   "cell_type": "markdown",
   "metadata": {},
   "source": [
    "# Build the Neural Network Model"
   ]
  },
  {
   "cell_type": "code",
   "execution_count": 4,
   "metadata": {},
   "outputs": [
    {
     "name": "stdout",
     "output_type": "stream",
     "text": [
      "WARNING:tensorflow:From c:\\Users\\Devansh\\AppData\\Local\\Programs\\Python\\Python311\\Lib\\site-packages\\keras\\src\\backend.py:873: The name tf.get_default_graph is deprecated. Please use tf.compat.v1.get_default_graph instead.\n",
      "\n",
      "WARNING:tensorflow:From c:\\Users\\Devansh\\AppData\\Local\\Programs\\Python\\Python311\\Lib\\site-packages\\keras\\src\\optimizers\\__init__.py:309: The name tf.train.Optimizer is deprecated. Please use tf.compat.v1.train.Optimizer instead.\n",
      "\n",
      "Epoch 1/50\n",
      "WARNING:tensorflow:From c:\\Users\\Devansh\\AppData\\Local\\Programs\\Python\\Python311\\Lib\\site-packages\\keras\\src\\utils\\tf_utils.py:492: The name tf.ragged.RaggedTensorValue is deprecated. Please use tf.compat.v1.ragged.RaggedTensorValue instead.\n",
      "\n",
      "WARNING:tensorflow:From c:\\Users\\Devansh\\AppData\\Local\\Programs\\Python\\Python311\\Lib\\site-packages\\keras\\src\\engine\\base_layer_utils.py:384: The name tf.executing_eagerly_outside_functions is deprecated. Please use tf.compat.v1.executing_eagerly_outside_functions instead.\n",
      "\n",
      "338/338 [==============================] - 3s 3ms/step - loss: 48.4016 - mae: 3.5530 - val_loss: 100.0542 - val_mae: 3.5176\n",
      "Epoch 2/50\n",
      "338/338 [==============================] - 1s 3ms/step - loss: 44.4632 - mae: 3.2674 - val_loss: 99.2084 - val_mae: 3.4844\n",
      "Epoch 3/50\n",
      "338/338 [==============================] - 1s 3ms/step - loss: 43.8146 - mae: 3.1969 - val_loss: 98.4224 - val_mae: 3.4748\n",
      "Epoch 4/50\n",
      "338/338 [==============================] - 1s 3ms/step - loss: 43.4318 - mae: 3.1639 - val_loss: 98.8419 - val_mae: 3.6106\n",
      "Epoch 5/50\n",
      "338/338 [==============================] - 1s 3ms/step - loss: 43.2071 - mae: 3.1384 - val_loss: 97.9234 - val_mae: 3.4447\n",
      "Epoch 6/50\n",
      "338/338 [==============================] - 1s 3ms/step - loss: 43.0782 - mae: 3.1364 - val_loss: 97.8494 - val_mae: 3.3061\n",
      "Epoch 7/50\n",
      "338/338 [==============================] - 1s 3ms/step - loss: 42.9869 - mae: 3.1170 - val_loss: 97.5741 - val_mae: 3.4479\n",
      "Epoch 8/50\n",
      "338/338 [==============================] - 1s 3ms/step - loss: 42.7489 - mae: 3.1122 - val_loss: 97.9702 - val_mae: 3.6089\n",
      "Epoch 9/50\n",
      "338/338 [==============================] - 1s 3ms/step - loss: 42.7941 - mae: 3.1086 - val_loss: 97.3983 - val_mae: 3.3734\n",
      "Epoch 10/50\n",
      "338/338 [==============================] - 1s 3ms/step - loss: 42.5794 - mae: 3.0884 - val_loss: 97.6989 - val_mae: 3.4368\n",
      "Epoch 11/50\n",
      "338/338 [==============================] - 1s 2ms/step - loss: 42.3918 - mae: 3.0871 - val_loss: 97.2982 - val_mae: 3.3919\n",
      "Epoch 12/50\n",
      "338/338 [==============================] - 1s 2ms/step - loss: 42.3192 - mae: 3.0817 - val_loss: 97.0906 - val_mae: 3.4466\n",
      "Epoch 13/50\n",
      "338/338 [==============================] - 1s 2ms/step - loss: 42.1342 - mae: 3.0646 - val_loss: 96.9474 - val_mae: 3.3181\n",
      "Epoch 14/50\n",
      "338/338 [==============================] - 1s 2ms/step - loss: 42.0298 - mae: 3.0667 - val_loss: 96.4604 - val_mae: 3.3255\n",
      "Epoch 15/50\n",
      "338/338 [==============================] - 1s 2ms/step - loss: 41.9644 - mae: 3.0598 - val_loss: 96.5350 - val_mae: 3.3825\n",
      "Epoch 16/50\n",
      "338/338 [==============================] - 1s 2ms/step - loss: 41.9747 - mae: 3.0631 - val_loss: 96.4809 - val_mae: 3.3304\n",
      "Epoch 17/50\n",
      "338/338 [==============================] - 1s 2ms/step - loss: 41.6758 - mae: 3.0351 - val_loss: 96.4020 - val_mae: 3.3621\n",
      "Epoch 18/50\n",
      "338/338 [==============================] - 1s 2ms/step - loss: 41.5933 - mae: 3.0372 - val_loss: 96.0787 - val_mae: 3.2608\n",
      "Epoch 19/50\n",
      "338/338 [==============================] - 1s 2ms/step - loss: 41.3761 - mae: 3.0280 - val_loss: 96.1759 - val_mae: 3.3790\n",
      "Epoch 20/50\n",
      "338/338 [==============================] - 1s 2ms/step - loss: 41.3865 - mae: 3.0327 - val_loss: 96.2011 - val_mae: 3.2990\n",
      "Epoch 21/50\n",
      "338/338 [==============================] - 1s 2ms/step - loss: 41.1459 - mae: 3.0117 - val_loss: 95.9388 - val_mae: 3.3065\n",
      "Epoch 22/50\n",
      "338/338 [==============================] - 1s 2ms/step - loss: 41.3046 - mae: 3.0121 - val_loss: 95.6538 - val_mae: 3.2572\n",
      "Epoch 23/50\n",
      "338/338 [==============================] - 1s 2ms/step - loss: 40.9639 - mae: 2.9973 - val_loss: 95.8857 - val_mae: 3.4549\n",
      "Epoch 24/50\n",
      "338/338 [==============================] - 1s 2ms/step - loss: 40.9536 - mae: 3.0106 - val_loss: 95.8941 - val_mae: 3.2549\n",
      "Epoch 25/50\n",
      "338/338 [==============================] - 1s 2ms/step - loss: 40.7180 - mae: 2.9779 - val_loss: 95.5343 - val_mae: 3.3317\n",
      "Epoch 26/50\n",
      "338/338 [==============================] - 1s 2ms/step - loss: 40.6039 - mae: 2.9800 - val_loss: 95.3355 - val_mae: 3.3609\n",
      "Epoch 27/50\n",
      "338/338 [==============================] - 1s 2ms/step - loss: 40.5498 - mae: 2.9717 - val_loss: 94.7906 - val_mae: 3.3015\n",
      "Epoch 28/50\n",
      "338/338 [==============================] - 1s 2ms/step - loss: 40.5127 - mae: 2.9598 - val_loss: 95.1169 - val_mae: 3.1739\n",
      "Epoch 29/50\n",
      "338/338 [==============================] - 1s 2ms/step - loss: 40.5617 - mae: 2.9814 - val_loss: 94.7869 - val_mae: 3.2246\n",
      "Epoch 30/50\n",
      "338/338 [==============================] - 1s 2ms/step - loss: 40.3758 - mae: 2.9637 - val_loss: 94.8665 - val_mae: 3.2096\n",
      "Epoch 31/50\n",
      "338/338 [==============================] - 1s 2ms/step - loss: 40.2567 - mae: 2.9549 - val_loss: 94.8940 - val_mae: 3.1245\n",
      "Epoch 32/50\n",
      "338/338 [==============================] - 1s 2ms/step - loss: 40.4147 - mae: 2.9712 - val_loss: 94.8598 - val_mae: 3.1622\n",
      "Epoch 33/50\n",
      "338/338 [==============================] - 1s 3ms/step - loss: 39.9676 - mae: 2.9356 - val_loss: 94.9968 - val_mae: 3.2139\n",
      "Epoch 34/50\n",
      "338/338 [==============================] - 1s 3ms/step - loss: 40.2475 - mae: 2.9586 - val_loss: 94.7317 - val_mae: 3.2186\n",
      "Epoch 35/50\n",
      "338/338 [==============================] - 1s 3ms/step - loss: 39.9409 - mae: 2.9398 - val_loss: 95.0492 - val_mae: 3.1362\n",
      "Epoch 36/50\n",
      "338/338 [==============================] - 1s 2ms/step - loss: 39.9168 - mae: 2.9256 - val_loss: 94.2764 - val_mae: 3.2404\n",
      "Epoch 37/50\n",
      "338/338 [==============================] - 1s 2ms/step - loss: 39.7974 - mae: 2.9294 - val_loss: 94.3639 - val_mae: 3.2464\n",
      "Epoch 38/50\n",
      "338/338 [==============================] - 1s 2ms/step - loss: 39.8703 - mae: 2.9286 - val_loss: 94.8223 - val_mae: 3.1586\n",
      "Epoch 39/50\n",
      "338/338 [==============================] - 1s 3ms/step - loss: 39.7487 - mae: 2.9252 - val_loss: 94.3682 - val_mae: 3.1948\n",
      "Epoch 40/50\n",
      "338/338 [==============================] - 1s 3ms/step - loss: 39.6152 - mae: 2.9136 - val_loss: 94.4981 - val_mae: 3.2548\n",
      "Epoch 41/50\n",
      "338/338 [==============================] - 1s 2ms/step - loss: 39.6436 - mae: 2.9182 - val_loss: 94.0661 - val_mae: 3.1344\n",
      "Epoch 42/50\n",
      "338/338 [==============================] - 1s 2ms/step - loss: 39.6222 - mae: 2.9172 - val_loss: 94.3895 - val_mae: 3.1090\n",
      "Epoch 43/50\n",
      "338/338 [==============================] - 1s 3ms/step - loss: 39.4802 - mae: 2.9054 - val_loss: 94.8903 - val_mae: 3.2830\n",
      "Epoch 44/50\n",
      "338/338 [==============================] - 1s 3ms/step - loss: 39.4830 - mae: 2.9209 - val_loss: 94.6246 - val_mae: 3.0952\n",
      "Epoch 45/50\n",
      "338/338 [==============================] - 1s 2ms/step - loss: 39.5241 - mae: 2.9045 - val_loss: 93.6479 - val_mae: 3.2085\n",
      "Epoch 46/50\n",
      "338/338 [==============================] - 1s 2ms/step - loss: 39.5484 - mae: 2.9105 - val_loss: 93.8006 - val_mae: 3.1974\n",
      "Epoch 47/50\n",
      "338/338 [==============================] - 1s 2ms/step - loss: 39.2251 - mae: 2.8985 - val_loss: 94.1966 - val_mae: 3.1365\n",
      "Epoch 48/50\n",
      "338/338 [==============================] - 1s 2ms/step - loss: 39.3709 - mae: 2.9064 - val_loss: 94.4549 - val_mae: 3.0772\n",
      "Epoch 49/50\n",
      "338/338 [==============================] - 1s 2ms/step - loss: 39.1115 - mae: 2.8792 - val_loss: 94.4355 - val_mae: 3.4755\n",
      "Epoch 50/50\n",
      "338/338 [==============================] - 1s 3ms/step - loss: 39.2004 - mae: 2.9157 - val_loss: 93.9428 - val_mae: 3.1105\n"
     ]
    }
   ],
   "source": [
    "model = Sequential([\n",
    "    Dense(128, activation='relu', input_shape=(X_train.shape[1],)),\n",
    "    Dense(128, activation='relu'),\n",
    "    Dense(64, activation='relu'),\n",
    "    Dense(1)  # Output layer: one continuous value\n",
    "])\n",
    "\n",
    "model.compile(optimizer='adam', loss='mse', metrics=['mae'])\n",
    "history = model.fit(X_train, y_train, validation_split=0.2, epochs=50, batch_size=64)\n"
   ]
  },
  {
   "cell_type": "markdown",
   "metadata": {},
   "source": [
    "# Save Model\n"
   ]
  },
  {
   "cell_type": "code",
   "execution_count": 5,
   "metadata": {},
   "outputs": [
    {
     "name": "stderr",
     "output_type": "stream",
     "text": [
      "c:\\Users\\Devansh\\AppData\\Local\\Programs\\Python\\Python311\\Lib\\site-packages\\keras\\src\\engine\\training.py:3103: UserWarning: You are saving your model as an HDF5 file via `model.save()`. This file format is considered legacy. We recommend using instead the native Keras format, e.g. `model.save('my_model.keras')`.\n",
      "  saving_api.save_model(\n"
     ]
    },
    {
     "data": {
      "text/plain": [
       "['scaler.pkl']"
      ]
     },
     "execution_count": 5,
     "metadata": {},
     "output_type": "execute_result"
    }
   ],
   "source": [
    "model.save(\"groundwater_level_model.h5\")\n",
    "joblib.dump(station_encoder, \"station_encoder.pkl\")\n",
    "joblib.dump(scaler, \"scaler.pkl\")\n"
   ]
  },
  {
   "cell_type": "code",
   "execution_count": 6,
   "metadata": {},
   "outputs": [],
   "source": [
    "def predict_ground_level(station_name, year):\n",
    "    # Load encoders and model\n",
    "    import tensorflow as tf\n",
    "    import joblib\n",
    "    import numpy as np\n",
    "\n",
    "    station_encoder = joblib.load(\"station_encoder.pkl\")\n",
    "    scaler = joblib.load(\"scaler.pkl\")\n",
    "    model = tf.keras.models.load_model(\"groundwater_level_model.h5\")\n",
    "\n",
    "    # Get lat/long of station\n",
    "    station_row = df[df['Station_name'] == station_name].iloc[0]\n",
    "    station_id = station_encoder.transform([station_name])[0]\n",
    "\n",
    "    lat = station_row['lat']\n",
    "    long = station_row['long']\n",
    "\n",
    "    # Prepare input\n",
    "    input_data = np.array([[station_id, lat, long, year]])\n",
    "    input_scaled = scaler.transform(input_data)\n",
    "\n",
    "    # Predict\n",
    "    predicted_level = model.predict(input_scaled)[0][0]\n",
    "\n",
    "    # Print all info\n",
    "    print(f\"📍 Station: {station_name}\")\n",
    "    print(f\"🧭 Location: Latitude = {lat}, Longitude = {long}\")\n",
    "    print(f\"📅 Year: {year}\")\n",
    "    print(f\"💧 Predicted Groundwater Level: {predicted_level:.2f} m\")\n",
    "\n",
    "    return predicted_level, lat, long\n"
   ]
  },
  {
   "cell_type": "code",
   "execution_count": 13,
   "metadata": {},
   "outputs": [
    {
     "name": "stdout",
     "output_type": "stream",
     "text": [
      "1/1 [==============================] - 0s 125ms/step\n",
      "📍 Station: Kothri (np)\n",
      "🧭 Location: Latitude = 23.06745944, Longitude = 76.84140611\n",
      "📅 Year: 2029\n",
      "💧 Predicted Groundwater Level: 21.43 m\n"
     ]
    },
    {
     "data": {
      "text/plain": [
       "(21.42763, 23.06745944, 76.84140611)"
      ]
     },
     "execution_count": 13,
     "metadata": {},
     "output_type": "execute_result"
    }
   ],
   "source": [
    "predict_ground_level(\"Kothri (np)\", 2029)\n"
   ]
  }
 ],
 "metadata": {
  "kernelspec": {
   "display_name": "Python 3",
   "language": "python",
   "name": "python3"
  },
  "language_info": {
   "codemirror_mode": {
    "name": "ipython",
    "version": 3
   },
   "file_extension": ".py",
   "mimetype": "text/x-python",
   "name": "python",
   "nbconvert_exporter": "python",
   "pygments_lexer": "ipython3",
   "version": "3.11.0"
  }
 },
 "nbformat": 4,
 "nbformat_minor": 2
}
