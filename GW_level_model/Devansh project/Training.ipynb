{
 "cells": [
  {
   "cell_type": "markdown",
   "metadata": {},
   "source": [
    "# Import Libraries"
   ]
  },
  {
   "cell_type": "code",
   "execution_count": 1,
   "metadata": {},
   "outputs": [
    {
     "name": "stdout",
     "output_type": "stream",
     "text": [
      "WARNING:tensorflow:From c:\\Users\\Devansh\\AppData\\Local\\Programs\\Python\\Python311\\Lib\\site-packages\\keras\\src\\losses.py:2976: The name tf.losses.sparse_softmax_cross_entropy is deprecated. Please use tf.compat.v1.losses.sparse_softmax_cross_entropy instead.\n",
      "\n"
     ]
    }
   ],
   "source": [
    "import pandas as pd\n",
    "import numpy as np\n",
    "from sklearn.model_selection import train_test_split\n",
    "from sklearn.preprocessing import LabelEncoder, StandardScaler\n",
    "import tensorflow as tf\n",
    "from tensorflow.keras.models import Sequential\n",
    "from tensorflow.keras.layers import Dense\n",
    "import joblib\n"
   ]
  },
  {
   "cell_type": "markdown",
   "metadata": {},
   "source": [
    "# Load And Process DATA"
   ]
  },
  {
   "cell_type": "code",
   "execution_count": 2,
   "metadata": {},
   "outputs": [],
   "source": [
    "# Load the CSV\n",
    "df = pd.read_csv(\"groundwater_yearly_averages.csv\")\n",
    "\n",
    "# Drop rows with missing important values\n",
    "df.dropna(subset=['Station_name', 'lat', 'long', 'Year', 'level'], inplace=True)\n",
    "\n",
    "# Encode station name\n",
    "station_encoder = LabelEncoder()\n",
    "df['Station_ID'] = station_encoder.fit_transform(df['Station_name'])\n",
    "\n",
    "# Features: station ID, lat, long, year\n",
    "X = df[['Station_ID', 'lat', 'long', 'Year']].values\n",
    "y = df['level'].values\n",
    "\n",
    "# Scale the features\n",
    "scaler = StandardScaler()\n",
    "X_scaled = scaler.fit_transform(X)\n"
   ]
  },
  {
   "cell_type": "markdown",
   "metadata": {},
   "source": [
    "# Split the data"
   ]
  },
  {
   "cell_type": "code",
   "execution_count": 3,
   "metadata": {},
   "outputs": [],
   "source": [
    "X_train, X_test, y_train, y_test = train_test_split(X_scaled, y, test_size=0.2, random_state=42)\n"
   ]
  },
  {
   "cell_type": "markdown",
   "metadata": {},
   "source": [
    "# Build the Neural Network Model"
   ]
  },
  {
   "cell_type": "code",
   "execution_count": 4,
   "metadata": {},
   "outputs": [
    {
     "name": "stdout",
     "output_type": "stream",
     "text": [
      "WARNING:tensorflow:From c:\\Users\\Devansh\\AppData\\Local\\Programs\\Python\\Python311\\Lib\\site-packages\\keras\\src\\backend.py:873: The name tf.get_default_graph is deprecated. Please use tf.compat.v1.get_default_graph instead.\n",
      "\n",
      "WARNING:tensorflow:From c:\\Users\\Devansh\\AppData\\Local\\Programs\\Python\\Python311\\Lib\\site-packages\\keras\\src\\optimizers\\__init__.py:309: The name tf.train.Optimizer is deprecated. Please use tf.compat.v1.train.Optimizer instead.\n",
      "\n",
      "Epoch 1/50\n",
      "WARNING:tensorflow:From c:\\Users\\Devansh\\AppData\\Local\\Programs\\Python\\Python311\\Lib\\site-packages\\keras\\src\\utils\\tf_utils.py:492: The name tf.ragged.RaggedTensorValue is deprecated. Please use tf.compat.v1.ragged.RaggedTensorValue instead.\n",
      "\n",
      "WARNING:tensorflow:From c:\\Users\\Devansh\\AppData\\Local\\Programs\\Python\\Python311\\Lib\\site-packages\\keras\\src\\engine\\base_layer_utils.py:384: The name tf.executing_eagerly_outside_functions is deprecated. Please use tf.compat.v1.executing_eagerly_outside_functions instead.\n",
      "\n",
      "338/338 [==============================] - 4s 5ms/step - loss: 49.2338 - mae: 3.6081 - val_loss: 100.2306 - val_mae: 3.6613\n",
      "Epoch 2/50\n",
      "338/338 [==============================] - 1s 3ms/step - loss: 44.6206 - mae: 3.2878 - val_loss: 99.9346 - val_mae: 3.3604\n",
      "Epoch 3/50\n",
      "338/338 [==============================] - 1s 4ms/step - loss: 43.9452 - mae: 3.2192 - val_loss: 98.4774 - val_mae: 3.4128\n",
      "Epoch 4/50\n",
      "338/338 [==============================] - 1s 4ms/step - loss: 43.5066 - mae: 3.1743 - val_loss: 98.5424 - val_mae: 3.2910\n",
      "Epoch 5/50\n",
      "338/338 [==============================] - 1s 4ms/step - loss: 43.3848 - mae: 3.1557 - val_loss: 97.9629 - val_mae: 3.4601\n",
      "Epoch 6/50\n",
      "338/338 [==============================] - 1s 4ms/step - loss: 43.1830 - mae: 3.1448 - val_loss: 97.9689 - val_mae: 3.3343\n",
      "Epoch 7/50\n",
      "338/338 [==============================] - 1s 3ms/step - loss: 42.9935 - mae: 3.1278 - val_loss: 98.2006 - val_mae: 3.2841\n",
      "Epoch 8/50\n",
      "338/338 [==============================] - 1s 3ms/step - loss: 42.9027 - mae: 3.1217 - val_loss: 97.8930 - val_mae: 3.2878\n",
      "Epoch 9/50\n",
      "338/338 [==============================] - 1s 4ms/step - loss: 42.8663 - mae: 3.1065 - val_loss: 97.3827 - val_mae: 3.3821\n",
      "Epoch 10/50\n",
      "338/338 [==============================] - 1s 4ms/step - loss: 42.7553 - mae: 3.1089 - val_loss: 97.6688 - val_mae: 3.4214\n",
      "Epoch 11/50\n",
      "338/338 [==============================] - 1s 3ms/step - loss: 42.6976 - mae: 3.1057 - val_loss: 97.9724 - val_mae: 3.3912\n",
      "Epoch 12/50\n",
      "338/338 [==============================] - 1s 4ms/step - loss: 42.6415 - mae: 3.1032 - val_loss: 97.2393 - val_mae: 3.3417\n",
      "Epoch 13/50\n",
      "338/338 [==============================] - 1s 4ms/step - loss: 42.4416 - mae: 3.1014 - val_loss: 97.2574 - val_mae: 3.3162\n",
      "Epoch 14/50\n",
      "338/338 [==============================] - 1s 3ms/step - loss: 42.3937 - mae: 3.0905 - val_loss: 97.1719 - val_mae: 3.3156\n",
      "Epoch 15/50\n",
      "338/338 [==============================] - 1s 4ms/step - loss: 42.3413 - mae: 3.0852 - val_loss: 97.2946 - val_mae: 3.4839\n",
      "Epoch 16/50\n",
      "338/338 [==============================] - 1s 3ms/step - loss: 42.2226 - mae: 3.0772 - val_loss: 97.0443 - val_mae: 3.2716\n",
      "Epoch 17/50\n",
      "338/338 [==============================] - 1s 3ms/step - loss: 42.1512 - mae: 3.0630 - val_loss: 96.7500 - val_mae: 3.3363\n",
      "Epoch 18/50\n",
      "338/338 [==============================] - 1s 3ms/step - loss: 42.0608 - mae: 3.0683 - val_loss: 96.6984 - val_mae: 3.2486\n",
      "Epoch 19/50\n",
      "338/338 [==============================] - 1s 3ms/step - loss: 41.9345 - mae: 3.0537 - val_loss: 96.4100 - val_mae: 3.3227\n",
      "Epoch 20/50\n",
      "338/338 [==============================] - 1s 3ms/step - loss: 41.7128 - mae: 3.0559 - val_loss: 97.3080 - val_mae: 3.2426\n",
      "Epoch 21/50\n",
      "338/338 [==============================] - 1s 3ms/step - loss: 41.6323 - mae: 3.0290 - val_loss: 96.0958 - val_mae: 3.3672\n",
      "Epoch 22/50\n",
      "338/338 [==============================] - 1s 4ms/step - loss: 41.6101 - mae: 3.0441 - val_loss: 96.3926 - val_mae: 3.3806\n",
      "Epoch 23/50\n",
      "338/338 [==============================] - 1s 3ms/step - loss: 41.3707 - mae: 3.0236 - val_loss: 95.9220 - val_mae: 3.2344\n",
      "Epoch 24/50\n",
      "338/338 [==============================] - 1s 4ms/step - loss: 41.2590 - mae: 3.0201 - val_loss: 96.0591 - val_mae: 3.2133\n",
      "Epoch 25/50\n",
      "338/338 [==============================] - 1s 3ms/step - loss: 40.9590 - mae: 2.9870 - val_loss: 97.7055 - val_mae: 3.8623\n",
      "Epoch 26/50\n",
      "338/338 [==============================] - 1s 3ms/step - loss: 41.2224 - mae: 3.0145 - val_loss: 95.6012 - val_mae: 3.2662\n",
      "Epoch 27/50\n",
      "338/338 [==============================] - 1s 3ms/step - loss: 40.8131 - mae: 2.9890 - val_loss: 96.7100 - val_mae: 3.2535\n",
      "Epoch 28/50\n",
      "338/338 [==============================] - 1s 3ms/step - loss: 40.7257 - mae: 2.9735 - val_loss: 95.6765 - val_mae: 3.2194\n",
      "Epoch 29/50\n",
      "338/338 [==============================] - 1s 3ms/step - loss: 40.6543 - mae: 2.9691 - val_loss: 94.9616 - val_mae: 3.2270\n",
      "Epoch 30/50\n",
      "338/338 [==============================] - 1s 4ms/step - loss: 40.4927 - mae: 2.9688 - val_loss: 95.4247 - val_mae: 3.1948\n",
      "Epoch 31/50\n",
      "338/338 [==============================] - 1s 3ms/step - loss: 40.4987 - mae: 2.9630 - val_loss: 95.1983 - val_mae: 3.2046\n",
      "Epoch 32/50\n",
      "338/338 [==============================] - 1s 4ms/step - loss: 40.4353 - mae: 2.9648 - val_loss: 95.4789 - val_mae: 3.1431\n",
      "Epoch 33/50\n",
      "338/338 [==============================] - 1s 3ms/step - loss: 40.0518 - mae: 2.9234 - val_loss: 95.1039 - val_mae: 3.2781\n",
      "Epoch 34/50\n",
      "338/338 [==============================] - 1s 3ms/step - loss: 40.4302 - mae: 2.9769 - val_loss: 94.9871 - val_mae: 3.2189\n",
      "Epoch 35/50\n",
      "338/338 [==============================] - 1s 3ms/step - loss: 40.1470 - mae: 2.9423 - val_loss: 95.3746 - val_mae: 3.1637\n",
      "Epoch 36/50\n",
      "338/338 [==============================] - 1s 4ms/step - loss: 40.2358 - mae: 2.9455 - val_loss: 94.7595 - val_mae: 3.2131\n",
      "Epoch 37/50\n",
      "338/338 [==============================] - 1s 3ms/step - loss: 40.0740 - mae: 2.9421 - val_loss: 95.2648 - val_mae: 3.1508\n",
      "Epoch 38/50\n",
      "338/338 [==============================] - 1s 3ms/step - loss: 39.9253 - mae: 2.9300 - val_loss: 95.0022 - val_mae: 3.1313\n",
      "Epoch 39/50\n",
      "338/338 [==============================] - 1s 3ms/step - loss: 39.8244 - mae: 2.9247 - val_loss: 94.9089 - val_mae: 3.1609\n",
      "Epoch 40/50\n",
      "338/338 [==============================] - 1s 3ms/step - loss: 39.9595 - mae: 2.9425 - val_loss: 94.6089 - val_mae: 3.2160\n",
      "Epoch 41/50\n",
      "338/338 [==============================] - 1s 3ms/step - loss: 39.8995 - mae: 2.9266 - val_loss: 94.7167 - val_mae: 3.1900\n",
      "Epoch 42/50\n",
      "338/338 [==============================] - 1s 3ms/step - loss: 39.8625 - mae: 2.9229 - val_loss: 94.7954 - val_mae: 3.1647\n",
      "Epoch 43/50\n",
      "338/338 [==============================] - 1s 4ms/step - loss: 39.5779 - mae: 2.9165 - val_loss: 95.4323 - val_mae: 3.1570\n",
      "Epoch 44/50\n",
      "338/338 [==============================] - 1s 3ms/step - loss: 39.6762 - mae: 2.9115 - val_loss: 94.4188 - val_mae: 3.1632\n",
      "Epoch 45/50\n",
      "338/338 [==============================] - 1s 3ms/step - loss: 39.5704 - mae: 2.9150 - val_loss: 94.5771 - val_mae: 3.1803\n",
      "Epoch 46/50\n",
      "338/338 [==============================] - 1s 4ms/step - loss: 39.5049 - mae: 2.8938 - val_loss: 94.7010 - val_mae: 3.2123\n",
      "Epoch 47/50\n",
      "338/338 [==============================] - 1s 4ms/step - loss: 39.5633 - mae: 2.9269 - val_loss: 94.8713 - val_mae: 3.2017\n",
      "Epoch 48/50\n",
      "338/338 [==============================] - 1s 4ms/step - loss: 39.4627 - mae: 2.9150 - val_loss: 94.3823 - val_mae: 3.1909\n",
      "Epoch 49/50\n",
      "338/338 [==============================] - 1s 4ms/step - loss: 39.4858 - mae: 2.8996 - val_loss: 94.6018 - val_mae: 3.1653\n",
      "Epoch 50/50\n",
      "338/338 [==============================] - 1s 4ms/step - loss: 39.3167 - mae: 2.9008 - val_loss: 94.4195 - val_mae: 3.4334\n"
     ]
    }
   ],
   "source": [
    "model = Sequential([\n",
    "    Dense(128, activation='relu', input_shape=(X_train.shape[1],)),\n",
    "    Dense(128, activation='relu'),\n",
    "    Dense(64, activation='relu'),\n",
    "    Dense(1)  # Output layer: one continuous value\n",
    "])\n",
    "\n",
    "model.compile(optimizer='adam', loss='mse', metrics=['mae'])\n",
    "history = model.fit(X_train, y_train, validation_split=0.2, epochs=50, batch_size=64)\n"
   ]
  },
  {
   "cell_type": "markdown",
   "metadata": {},
   "source": [
    "# Save Model\n"
   ]
  },
  {
   "cell_type": "code",
   "execution_count": 5,
   "metadata": {},
   "outputs": [
    {
     "name": "stderr",
     "output_type": "stream",
     "text": [
      "c:\\Users\\Devansh\\AppData\\Local\\Programs\\Python\\Python311\\Lib\\site-packages\\keras\\src\\engine\\training.py:3103: UserWarning: You are saving your model as an HDF5 file via `model.save()`. This file format is considered legacy. We recommend using instead the native Keras format, e.g. `model.save('my_model.keras')`.\n",
      "  saving_api.save_model(\n"
     ]
    },
    {
     "data": {
      "text/plain": [
       "['scaler.pkl']"
      ]
     },
     "execution_count": 5,
     "metadata": {},
     "output_type": "execute_result"
    }
   ],
   "source": [
    "model.save(\"groundwater_level_model.h5\")\n",
    "joblib.dump(station_encoder, \"station_encoder.pkl\")\n",
    "joblib.dump(scaler, \"scaler.pkl\")\n"
   ]
  },
  {
   "cell_type": "code",
   "execution_count": 7,
   "metadata": {},
   "outputs": [],
   "source": [
    "def predict_ground_level(station_name, year):\n",
    "    # Load encoders and model\n",
    "    import tensorflow as tf\n",
    "    import joblib\n",
    "    import numpy as np\n",
    "\n",
    "    station_encoder = joblib.load(\"station_encoder.pkl\")\n",
    "    scaler = joblib.load(\"scaler.pkl\")\n",
    "    model = tf.keras.models.load_model(\"groundwater_level_model.h5\")\n",
    "\n",
    "    # Get lat/long of station\n",
    "    station_row = df[df['Station_name'] == station_name].iloc[0]\n",
    "    station_id = station_encoder.transform([station_name])[0]\n",
    "\n",
    "    lat = station_row['lat']\n",
    "    long = station_row['long']\n",
    "\n",
    "    # Prepare input\n",
    "    input_data = np.array([[station_id, lat, long, year]])\n",
    "    input_scaled = scaler.transform(input_data)\n",
    "\n",
    "    # Predict\n",
    "    predicted_level = model.predict(input_scaled)[0][0]\n",
    "\n",
    "    # Print all info\n",
    "    print(f\"📍 Station: {station_name}\")\n",
    "    print(f\"🧭 Location: Latitude = {lat}, Longitude = {long}\")\n",
    "    print(f\"📅 Year: {year}\")\n",
    "    print(f\"💧 Predicted Groundwater Level: {predicted_level:.2f} m\")\n",
    "\n",
    "    return predicted_level, lat, long\n"
   ]
  },
  {
   "cell_type": "code",
   "execution_count": 8,
   "metadata": {},
   "outputs": [
    {
     "name": "stdout",
     "output_type": "stream",
     "text": [
      "1/1 [==============================] - 0s 212ms/step\n",
      "📍 Station: Kothri (np)\n",
      "🧭 Location: Latitude = 23.06745944, Longitude = 76.84140611\n",
      "📅 Year: 2029\n",
      "💧 Predicted Groundwater Level: 25.43 m\n"
     ]
    },
    {
     "data": {
      "text/plain": [
       "(25.427393, 23.06745944, 76.84140611)"
      ]
     },
     "execution_count": 8,
     "metadata": {},
     "output_type": "execute_result"
    }
   ],
   "source": [
    "predict_ground_level(\"Kothri (np)\", 2029)\n"
   ]
  }
 ],
 "metadata": {
  "kernelspec": {
   "display_name": "Python 3",
   "language": "python",
   "name": "python3"
  },
  "language_info": {
   "codemirror_mode": {
    "name": "ipython",
    "version": 3
   },
   "file_extension": ".py",
   "mimetype": "text/x-python",
   "name": "python",
   "nbconvert_exporter": "python",
   "pygments_lexer": "ipython3",
   "version": "3.11.0"
  }
 },
 "nbformat": 4,
 "nbformat_minor": 2
}
