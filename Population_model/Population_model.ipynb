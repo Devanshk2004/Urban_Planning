{
  "nbformat": 4,
  "nbformat_minor": 0,
  "metadata": {
    "colab": {
      "provenance": []
    },
    "kernelspec": {
      "name": "python3",
      "display_name": "Python 3"
    },
    "language_info": {
      "name": "python"
    }
  },
  "cells": [
    {
      "cell_type": "markdown",
      "source": [],
      "metadata": {
        "id": "Iml1jhQMf6Io"
      }
    },
    {
      "cell_type": "code",
      "source": [
        "# Import necessary libraries\n",
        "import pandas as pd\n",
        "import numpy as np\n",
        "from sklearn.model_selection import train_test_split, GridSearchCV\n",
        "from sklearn.ensemble import GradientBoostingRegressor\n",
        "from sklearn.metrics import mean_squared_error, r2_score\n",
        "import matplotlib.pyplot as plt\n",
        "from sklearn.preprocessing import StandardScaler\n",
        "\n",
        "# Load the dataset\n",
        "file_path = '/content/drive/MyDrive/MPDecadeVarPop(1961-2011).csv'  # Update the path as needed\n",
        "data = pd.read_csv(file_path)\n",
        "\n",
        "# Data Cleaning and Feature Engineering\n",
        "data['Years_Since_1961'] = data['Census_Year'] - 1961\n",
        "\n",
        "# Handling gender-specific features based on input\n",
        "data['Male_Female_Ratio'] = data['Males'] / data['Females']\n",
        "data['Population_Growth_Rate'] = data.groupby('District')['Pop'].pct_change(fill_method=None)\n",
        "data.replace([np.inf, -np.inf], np.nan, inplace=True)\n",
        "data.fillna(0, inplace=True)  # Replace NaN with 0\n",
        "\n",
        "# Features and Target Selection\n",
        "features = data[['District', 'Years_Since_1961', 'Male_Female_Ratio', 'Population_Growth_Rate']]\n",
        "target_pop = data['Pop']\n",
        "target_density = data['Population_Density']\n",
        "\n",
        "# One-hot encoding for categorical variables\n",
        "features_encoded = pd.get_dummies(features, columns=['District'], drop_first=True)\n",
        "\n",
        "# Scaling numerical features\n",
        "scaler = StandardScaler()\n",
        "scaled_features = scaler.fit_transform(features_encoded[['Years_Since_1961', 'Male_Female_Ratio', 'Population_Growth_Rate']])\n",
        "scaled_features_df = pd.DataFrame(scaled_features, columns=['Years_Since_1961', 'Male_Female_Ratio', 'Population_Growth_Rate'])\n",
        "\n",
        "# Combine scaled numerical features with encoded categorical features\n",
        "features_encoded = pd.concat([scaled_features_df, features_encoded.drop(columns=['Years_Since_1961', 'Male_Female_Ratio', 'Population_Growth_Rate'])], axis=1)\n",
        "\n",
        "# Train-Test Split for Population and Population Density\n",
        "X_train_pop, X_test_pop, y_train_pop, y_test_pop = train_test_split(features_encoded, target_pop, test_size=0.3, random_state=42)\n",
        "X_train_density, X_test_density, y_train_density, y_test_density = train_test_split(features_encoded, target_density, test_size=0.3, random_state=42)\n",
        "\n",
        "# Hyperparameter Optimization for Gradient Boosting\n",
        "param_grid = {\n",
        "    'subsample': [0.7, 0.8, 0.9],\n",
        "    'n_estimators': [100, 200],\n",
        "    'max_depth': [3, 5, 9],\n",
        "    'learning_rate': [0.01, 0.05, 0.1]\n",
        "}\n",
        "\n",
        "# Population Model\n",
        "grid_search_pop = GridSearchCV(estimator=GradientBoostingRegressor(), param_grid=param_grid, cv=5, n_jobs=-1, verbose=1)\n",
        "grid_search_pop.fit(X_train_pop, y_train_pop)\n",
        "\n",
        "# Population Density Model\n",
        "grid_search_density = GridSearchCV(estimator=GradientBoostingRegressor(), param_grid=param_grid, cv=5, n_jobs=-1, verbose=1)\n",
        "grid_search_density.fit(X_train_density, y_train_density)\n",
        "\n",
        "# Best Models\n",
        "best_gb_pop = grid_search_pop.best_estimator_\n",
        "best_gb_density = grid_search_density.best_estimator_\n",
        "\n",
        "# Training the Final Models\n",
        "best_gb_pop.fit(X_train_pop, y_train_pop)\n",
        "best_gb_density.fit(X_train_density, y_train_density)\n",
        "\n",
        "# Model Evaluation for Population\n",
        "y_pred_train_pop = best_gb_pop.predict(X_train_pop)\n",
        "y_pred_test_pop = best_gb_pop.predict(X_test_pop)\n",
        "train_mse_pop = mean_squared_error(y_train_pop, y_pred_train_pop)\n",
        "test_mse_pop = mean_squared_error(y_test_pop, y_pred_test_pop)\n",
        "train_r2_pop = r2_score(y_train_pop, y_pred_train_pop)\n",
        "test_r2_pop = r2_score(y_test_pop, y_pred_test_pop)\n",
        "\n",
        "print(\"Population Model Performance:\")\n",
        "print(f\"Training MSE: {train_mse_pop:.2f}, R2: {train_r2_pop:.2f}\")\n",
        "print(f\"Testing MSE: {test_mse_pop:.2f}, R2: {test_r2_pop:.2f}\")\n",
        "\n",
        "# Model Evaluation for Population Density\n",
        "y_pred_train_density = best_gb_density.predict(X_train_density)\n",
        "y_pred_test_density = best_gb_density.predict(X_test_density)\n",
        "train_mse_density = mean_squared_error(y_train_density, y_pred_train_density)\n",
        "test_mse_density = mean_squared_error(y_test_density, y_pred_test_density)\n",
        "train_r2_density = r2_score(y_train_density, y_pred_train_density)\n",
        "test_r2_density = r2_score(y_test_density, y_pred_test_density)\n",
        "\n",
        "print(\"Population Density Model Performance:\")\n",
        "print(f\"Training MSE: {train_mse_density:.2f}, R2: {train_r2_density:.2f}\")\n",
        "print(f\"Testing MSE: {test_mse_density:.2f}, R2: {test_r2_density:.2f}\")\n",
        "\n",
        "# Plot Training and Validation Loss for Population\n",
        "if hasattr(best_gb_pop, 'train_score_'):\n",
        "    plt.figure(figsize=(8, 5))\n",
        "    plt.plot(best_gb_pop.train_score_, label='Training Loss')\n",
        "    plt.title(\"Population Model Training Loss Curve\")\n",
        "    plt.xlabel(\"Iterations\")\n",
        "    plt.ylabel(\"Loss\")\n",
        "    plt.legend()\n",
        "    plt.grid()\n",
        "    plt.show()\n",
        "\n",
        "# Plot Training and Validation Loss for Population Density\n",
        "if hasattr(best_gb_density, 'train_score_'):\n",
        "    plt.figure(figsize=(8, 5))\n",
        "    plt.plot(best_gb_density.train_score_, label='Training Loss')\n",
        "    plt.title(\"Population Density Model Training Loss Curve\")\n",
        "    plt.xlabel(\"Iterations\")\n",
        "    plt.ylabel(\"Loss\")\n",
        "    plt.legend()\n",
        "    plt.grid()\n",
        "    plt.show()\n",
        "\n",
        "# Example: Predict for Sehore, 2029, Gender: None\n",
        "def predict_population_and_density(district, year, gender):\n",
        "    # Encode input\n",
        "    years_since_1961 = year - 1961\n",
        "    male_female_ratio = 1  # Default when gender is None\n",
        "    if gender == 'male':\n",
        "        male_female_ratio = data['Male_Female_Ratio'].mean()\n",
        "    elif gender == 'female':\n",
        "        male_female_ratio = 1 / data['Male_Female_Ratio'].mean()\n",
        "\n",
        "    # Create input DataFrame\n",
        "    input_data = pd.DataFrame({\n",
        "        'Years_Since_1961': [years_since_1961],\n",
        "        'Male_Female_Ratio': [male_female_ratio],\n",
        "        'Population_Growth_Rate': [0],  # Default growth rate\n",
        "        **{col: [0] for col in features_encoded.columns if col.startswith('District_')}\n",
        "    })\n",
        "    district_col = f'District_{district}'\n",
        "    if district_col in input_data.columns:\n",
        "        input_data[district_col] = 1\n",
        "\n",
        "    # Scale numerical features\n",
        "    input_data[['Years_Since_1961', 'Male_Female_Ratio', 'Population_Growth_Rate']] = scaler.transform(\n",
        "        input_data[['Years_Since_1961', 'Male_Female_Ratio', 'Population_Growth_Rate']]\n",
        "    )\n",
        "\n",
        "    # Predict\n",
        "    population = best_gb_pop.predict(input_data)[0]\n",
        "    density = best_gb_density.predict(input_data)[0]\n",
        "\n",
        "    return population, density\n",
        "\n",
        "# Example usage\n",
        "predicted_population, predicted_density = predict_population_and_density('Sehore', 2028, None)\n",
        "print(f\"Predicted Population for Sehore in 2028: {predicted_population:.2f}\")\n",
        "print(f\"Predicted Population Density for Sehore in 2028: {predicted_density:.2f}\")"
      ],
      "metadata": {
        "id": "5p8ScUio-DIf",
        "outputId": "788fc977-3c16-44e3-c61e-3d6a39e9e7c9",
        "colab": {
          "base_uri": "https://localhost:8080/",
          "height": 356
        }
      },
      "execution_count": null,
      "outputs": [
        {
          "output_type": "error",
          "ename": "FileNotFoundError",
          "evalue": "[Errno 2] No such file or directory: '/content/drive/MyDrive/MPDecadeVarPop(1961-2011).csv'",
          "traceback": [
            "\u001b[0;31m---------------------------------------------------------------------------\u001b[0m",
            "\u001b[0;31mFileNotFoundError\u001b[0m                         Traceback (most recent call last)",
            "\u001b[0;32m<ipython-input-4-386a9fd7e135>\u001b[0m in \u001b[0;36m<cell line: 0>\u001b[0;34m()\u001b[0m\n\u001b[1;32m     10\u001b[0m \u001b[0;31m# Load the dataset\u001b[0m\u001b[0;34m\u001b[0m\u001b[0;34m\u001b[0m\u001b[0m\n\u001b[1;32m     11\u001b[0m \u001b[0mfile_path\u001b[0m \u001b[0;34m=\u001b[0m \u001b[0;34m'/content/drive/MyDrive/MPDecadeVarPop(1961-2011).csv'\u001b[0m  \u001b[0;31m# Update the path as needed\u001b[0m\u001b[0;34m\u001b[0m\u001b[0;34m\u001b[0m\u001b[0m\n\u001b[0;32m---> 12\u001b[0;31m \u001b[0mdata\u001b[0m \u001b[0;34m=\u001b[0m \u001b[0mpd\u001b[0m\u001b[0;34m.\u001b[0m\u001b[0mread_csv\u001b[0m\u001b[0;34m(\u001b[0m\u001b[0mfile_path\u001b[0m\u001b[0;34m)\u001b[0m\u001b[0;34m\u001b[0m\u001b[0;34m\u001b[0m\u001b[0m\n\u001b[0m\u001b[1;32m     13\u001b[0m \u001b[0;34m\u001b[0m\u001b[0m\n\u001b[1;32m     14\u001b[0m \u001b[0;31m# Data Cleaning and Feature Engineering\u001b[0m\u001b[0;34m\u001b[0m\u001b[0;34m\u001b[0m\u001b[0m\n",
            "\u001b[0;32m/usr/local/lib/python3.11/dist-packages/pandas/io/parsers/readers.py\u001b[0m in \u001b[0;36mread_csv\u001b[0;34m(filepath_or_buffer, sep, delimiter, header, names, index_col, usecols, dtype, engine, converters, true_values, false_values, skipinitialspace, skiprows, skipfooter, nrows, na_values, keep_default_na, na_filter, verbose, skip_blank_lines, parse_dates, infer_datetime_format, keep_date_col, date_parser, date_format, dayfirst, cache_dates, iterator, chunksize, compression, thousands, decimal, lineterminator, quotechar, quoting, doublequote, escapechar, comment, encoding, encoding_errors, dialect, on_bad_lines, delim_whitespace, low_memory, memory_map, float_precision, storage_options, dtype_backend)\u001b[0m\n\u001b[1;32m   1024\u001b[0m     \u001b[0mkwds\u001b[0m\u001b[0;34m.\u001b[0m\u001b[0mupdate\u001b[0m\u001b[0;34m(\u001b[0m\u001b[0mkwds_defaults\u001b[0m\u001b[0;34m)\u001b[0m\u001b[0;34m\u001b[0m\u001b[0;34m\u001b[0m\u001b[0m\n\u001b[1;32m   1025\u001b[0m \u001b[0;34m\u001b[0m\u001b[0m\n\u001b[0;32m-> 1026\u001b[0;31m     \u001b[0;32mreturn\u001b[0m \u001b[0m_read\u001b[0m\u001b[0;34m(\u001b[0m\u001b[0mfilepath_or_buffer\u001b[0m\u001b[0;34m,\u001b[0m \u001b[0mkwds\u001b[0m\u001b[0;34m)\u001b[0m\u001b[0;34m\u001b[0m\u001b[0;34m\u001b[0m\u001b[0m\n\u001b[0m\u001b[1;32m   1027\u001b[0m \u001b[0;34m\u001b[0m\u001b[0m\n\u001b[1;32m   1028\u001b[0m \u001b[0;34m\u001b[0m\u001b[0m\n",
            "\u001b[0;32m/usr/local/lib/python3.11/dist-packages/pandas/io/parsers/readers.py\u001b[0m in \u001b[0;36m_read\u001b[0;34m(filepath_or_buffer, kwds)\u001b[0m\n\u001b[1;32m    618\u001b[0m \u001b[0;34m\u001b[0m\u001b[0m\n\u001b[1;32m    619\u001b[0m     \u001b[0;31m# Create the parser.\u001b[0m\u001b[0;34m\u001b[0m\u001b[0;34m\u001b[0m\u001b[0m\n\u001b[0;32m--> 620\u001b[0;31m     \u001b[0mparser\u001b[0m \u001b[0;34m=\u001b[0m \u001b[0mTextFileReader\u001b[0m\u001b[0;34m(\u001b[0m\u001b[0mfilepath_or_buffer\u001b[0m\u001b[0;34m,\u001b[0m \u001b[0;34m**\u001b[0m\u001b[0mkwds\u001b[0m\u001b[0;34m)\u001b[0m\u001b[0;34m\u001b[0m\u001b[0;34m\u001b[0m\u001b[0m\n\u001b[0m\u001b[1;32m    621\u001b[0m \u001b[0;34m\u001b[0m\u001b[0m\n\u001b[1;32m    622\u001b[0m     \u001b[0;32mif\u001b[0m \u001b[0mchunksize\u001b[0m \u001b[0;32mor\u001b[0m \u001b[0miterator\u001b[0m\u001b[0;34m:\u001b[0m\u001b[0;34m\u001b[0m\u001b[0;34m\u001b[0m\u001b[0m\n",
            "\u001b[0;32m/usr/local/lib/python3.11/dist-packages/pandas/io/parsers/readers.py\u001b[0m in \u001b[0;36m__init__\u001b[0;34m(self, f, engine, **kwds)\u001b[0m\n\u001b[1;32m   1618\u001b[0m \u001b[0;34m\u001b[0m\u001b[0m\n\u001b[1;32m   1619\u001b[0m         \u001b[0mself\u001b[0m\u001b[0;34m.\u001b[0m\u001b[0mhandles\u001b[0m\u001b[0;34m:\u001b[0m \u001b[0mIOHandles\u001b[0m \u001b[0;34m|\u001b[0m \u001b[0;32mNone\u001b[0m \u001b[0;34m=\u001b[0m \u001b[0;32mNone\u001b[0m\u001b[0;34m\u001b[0m\u001b[0;34m\u001b[0m\u001b[0m\n\u001b[0;32m-> 1620\u001b[0;31m         \u001b[0mself\u001b[0m\u001b[0;34m.\u001b[0m\u001b[0m_engine\u001b[0m \u001b[0;34m=\u001b[0m \u001b[0mself\u001b[0m\u001b[0;34m.\u001b[0m\u001b[0m_make_engine\u001b[0m\u001b[0;34m(\u001b[0m\u001b[0mf\u001b[0m\u001b[0;34m,\u001b[0m \u001b[0mself\u001b[0m\u001b[0;34m.\u001b[0m\u001b[0mengine\u001b[0m\u001b[0;34m)\u001b[0m\u001b[0;34m\u001b[0m\u001b[0;34m\u001b[0m\u001b[0m\n\u001b[0m\u001b[1;32m   1621\u001b[0m \u001b[0;34m\u001b[0m\u001b[0m\n\u001b[1;32m   1622\u001b[0m     \u001b[0;32mdef\u001b[0m \u001b[0mclose\u001b[0m\u001b[0;34m(\u001b[0m\u001b[0mself\u001b[0m\u001b[0;34m)\u001b[0m \u001b[0;34m->\u001b[0m \u001b[0;32mNone\u001b[0m\u001b[0;34m:\u001b[0m\u001b[0;34m\u001b[0m\u001b[0;34m\u001b[0m\u001b[0m\n",
            "\u001b[0;32m/usr/local/lib/python3.11/dist-packages/pandas/io/parsers/readers.py\u001b[0m in \u001b[0;36m_make_engine\u001b[0;34m(self, f, engine)\u001b[0m\n\u001b[1;32m   1878\u001b[0m                 \u001b[0;32mif\u001b[0m \u001b[0;34m\"b\"\u001b[0m \u001b[0;32mnot\u001b[0m \u001b[0;32min\u001b[0m \u001b[0mmode\u001b[0m\u001b[0;34m:\u001b[0m\u001b[0;34m\u001b[0m\u001b[0;34m\u001b[0m\u001b[0m\n\u001b[1;32m   1879\u001b[0m                     \u001b[0mmode\u001b[0m \u001b[0;34m+=\u001b[0m \u001b[0;34m\"b\"\u001b[0m\u001b[0;34m\u001b[0m\u001b[0;34m\u001b[0m\u001b[0m\n\u001b[0;32m-> 1880\u001b[0;31m             self.handles = get_handle(\n\u001b[0m\u001b[1;32m   1881\u001b[0m                 \u001b[0mf\u001b[0m\u001b[0;34m,\u001b[0m\u001b[0;34m\u001b[0m\u001b[0;34m\u001b[0m\u001b[0m\n\u001b[1;32m   1882\u001b[0m                 \u001b[0mmode\u001b[0m\u001b[0;34m,\u001b[0m\u001b[0;34m\u001b[0m\u001b[0;34m\u001b[0m\u001b[0m\n",
            "\u001b[0;32m/usr/local/lib/python3.11/dist-packages/pandas/io/common.py\u001b[0m in \u001b[0;36mget_handle\u001b[0;34m(path_or_buf, mode, encoding, compression, memory_map, is_text, errors, storage_options)\u001b[0m\n\u001b[1;32m    871\u001b[0m         \u001b[0;32mif\u001b[0m \u001b[0mioargs\u001b[0m\u001b[0;34m.\u001b[0m\u001b[0mencoding\u001b[0m \u001b[0;32mand\u001b[0m \u001b[0;34m\"b\"\u001b[0m \u001b[0;32mnot\u001b[0m \u001b[0;32min\u001b[0m \u001b[0mioargs\u001b[0m\u001b[0;34m.\u001b[0m\u001b[0mmode\u001b[0m\u001b[0;34m:\u001b[0m\u001b[0;34m\u001b[0m\u001b[0;34m\u001b[0m\u001b[0m\n\u001b[1;32m    872\u001b[0m             \u001b[0;31m# Encoding\u001b[0m\u001b[0;34m\u001b[0m\u001b[0;34m\u001b[0m\u001b[0m\n\u001b[0;32m--> 873\u001b[0;31m             handle = open(\n\u001b[0m\u001b[1;32m    874\u001b[0m                 \u001b[0mhandle\u001b[0m\u001b[0;34m,\u001b[0m\u001b[0;34m\u001b[0m\u001b[0;34m\u001b[0m\u001b[0m\n\u001b[1;32m    875\u001b[0m                 \u001b[0mioargs\u001b[0m\u001b[0;34m.\u001b[0m\u001b[0mmode\u001b[0m\u001b[0;34m,\u001b[0m\u001b[0;34m\u001b[0m\u001b[0;34m\u001b[0m\u001b[0m\n",
            "\u001b[0;31mFileNotFoundError\u001b[0m: [Errno 2] No such file or directory: '/content/drive/MyDrive/MPDecadeVarPop(1961-2011).csv'"
          ]
        }
      ]
    },
    {
      "cell_type": "markdown",
      "source": [],
      "metadata": {
        "id": "3TxHF1i_NyVH"
      }
    },
    {
      "cell_type": "code",
      "source": [
        "# Save the updated dataset\n",
        "data.to_csv(\"updated_dataset.csv\", index=False)"
      ],
      "metadata": {
        "id": "MB5koOuhBh5P"
      },
      "execution_count": null,
      "outputs": []
    },
    {
      "cell_type": "code",
      "source": [
        "from google.colab import drive\n",
        "drive.mount('/content/drive')"
      ],
      "metadata": {
        "id": "sBmHfsFObWHn",
        "outputId": "77d676ea-bc4f-4f22-ce71-0200675195bb",
        "colab": {
          "base_uri": "https://localhost:8080/"
        }
      },
      "execution_count": null,
      "outputs": [
        {
          "output_type": "stream",
          "name": "stdout",
          "text": [
            "Drive already mounted at /content/drive; to attempt to forcibly remount, call drive.mount(\"/content/drive\", force_remount=True).\n"
          ]
        }
      ]
    },
    {
      "cell_type": "code",
      "source": [],
      "metadata": {
        "id": "hhJLRodegr6K"
      },
      "execution_count": null,
      "outputs": []
    },
    {
      "cell_type": "code",
      "source": [
        "print(data)"
      ],
      "metadata": {
        "id": "kduYN3rCAfbq",
        "outputId": "c87d39b0-d789-40e8-fd72-d36790659a66",
        "colab": {
          "base_uri": "https://localhost:8080/",
          "height": 141
        }
      },
      "execution_count": null,
      "outputs": [
        {
          "output_type": "error",
          "ename": "NameError",
          "evalue": "name 'data' is not defined",
          "traceback": [
            "\u001b[0;31m---------------------------------------------------------------------------\u001b[0m",
            "\u001b[0;31mNameError\u001b[0m                                 Traceback (most recent call last)",
            "\u001b[0;32m<ipython-input-5-dbd883db58b7>\u001b[0m in \u001b[0;36m<cell line: 0>\u001b[0;34m()\u001b[0m\n\u001b[0;32m----> 1\u001b[0;31m \u001b[0mprint\u001b[0m\u001b[0;34m(\u001b[0m\u001b[0mdata\u001b[0m\u001b[0;34m)\u001b[0m\u001b[0;34m\u001b[0m\u001b[0;34m\u001b[0m\u001b[0m\n\u001b[0m",
            "\u001b[0;31mNameError\u001b[0m: name 'data' is not defined"
          ]
        }
      ]
    },
    {
      "cell_type": "code",
      "source": [
        "from sklearn.model_selection import train_test_split\n",
        "from sklearn.linear_model import LinearRegression\n",
        "from sklearn.metrics import mean_squared_error\n",
        "import numpy as np\n",
        "\n",
        "# Step 1: Load and preprocess data\n",
        "data = pd.read_csv(\"updated_dataset.csv\")\n",
        "\n",
        "# Feature engineering\n",
        "# Population density per km^2\n",
        "data['Population_Per_Km2'] = data['Pop'] / data['Area']\n",
        "\n",
        "# Placeholder columns for target variables (replace with real data or assumptions)\n",
        "data['Public_Washrooms_Required'] = (data['Pop'] / 1000).astype(int)  # Assumption: 1 washroom per 1000 people\n",
        "data['Universities_Required'] = (data['Pop'] / 500000).astype(int)    # Assumption: 1 university per 500,000 people\n",
        "data['Schools_Required'] = (data['Pop'] / 2000).astype(int)          # Assumption: 1 school per 2000 people\n",
        "data['Industries_Required'] = (data['Population_Density'] / 100).astype(int)  # Assumption: 1 industry per 100 density\n",
        "data['Healthcare_Facilities_Required'] = (data['Pop'] / 10000).astype(int)  # Assumption: 1 healthcare facility per 10,000 people\n",
        "data['Apartments_Required'] = (data['Population_Density'] / 50).astype(int) # Assumption: 1 apartment block per 50 density\n",
        "\n",
        "# New target variables based on provided assumptions:\n",
        "data['Primary_Healthcare_Required'] = (data['Pop'] / 30000).astype(int)  # 1 per 30,000 people\n",
        "data['Community_Healthcare_Centre_Required'] = (data['Pop'] / 120000).astype(int)  # 1 per 120,000 people\n",
        "\n",
        "# Primary school requirements (age range 0-15; 15% of the population)\n",
        "data['Primary_School_Required_Min'] = (data['Pop'] * 0.15 / 300).astype(int)  # 1 school per 300 students\n",
        "data['Primary_School_Required_Max'] = (data['Pop'] * 0.15 / 500).astype(int)  # 1 school per 500 students\n",
        "\n",
        "# Secondary school requirements (age range 15-18; 10% of the population)\n",
        "data['Secondary_School_Required_Min'] = (data['Pop'] * 0.10 / 500).astype(int)  # 1 school per 500 students\n",
        "data['Secondary_School_Required_Max'] = (data['Pop'] * 0.10 / 1000).astype(int)  # 1 school per 1000 students\n",
        "\n",
        "# Dispensary requirements\n",
        "data['Dispensary_Required_Min'] = (data['Pop'] / 5000).astype(int)  # 1 dispensary per 5000 people\n",
        "data['Dispensary_Required_Max'] = (data['Pop'] / 10000).astype(int)  # 1 dispensary per 10,000 people\n",
        "\n",
        "# Step 2: Prepare features and target variables\n",
        "X = data[['Population_Density', 'Pop', 'Area', 'Population_Per_Km2']]\n",
        "y = data[['Public_Washrooms_Required', 'Universities_Required', 'Schools_Required',\n",
        "          'Industries_Required', 'Healthcare_Facilities_Required', 'Apartments_Required',\n",
        "          'Primary_Healthcare_Required', 'Community_Healthcare_Centre_Required',\n",
        "          'Primary_School_Required_Min', 'Primary_School_Required_Max',\n",
        "          'Secondary_School_Required_Min', 'Secondary_School_Required_Max',\n",
        "          'Dispensary_Required_Min', 'Dispensary_Required_Max']]\n",
        "\n",
        "# Step 3: Train-test split\n",
        "X_train, X_test, y_train, y_test = train_test_split(X, y, test_size=0.2, random_state=42)\n",
        "\n",
        "# Step 4: Train model\n",
        "model = LinearRegression()\n",
        "model.fit(X_train, y_train)\n",
        "\n",
        "# Step 5: Predictions\n",
        "y_pred = model.predict(X_test)\n",
        "\n",
        "# Step 6: Evaluate the model\n",
        "mse = mean_squared_error(y_test, y_pred, multioutput='raw_values')\n",
        "print(\"Mean Squared Errors for each target variable:\")\n",
        "for i, column in enumerate(y.columns):\n",
        "    print(f\"{column}: {mse[i]}\")\n",
        "\n",
        "# Step 7: Test on new data\n",
        "new_data = pd.DataFrame({\n",
        "    'Population_Density': [3000],\n",
        "    'Pop': [5000000],\n",
        "    'Area': [2000],\n",
        "    'Population_Per_Km2': [3000]\n",
        "})\n",
        "\n",
        "predicted_amenities = model.predict(new_data)\n",
        "print(\"Predicted amenities for new data:\")\n",
        "print(predicted_amenities)\n"
      ],
      "metadata": {
        "id": "tc2ZN9u7NJ2F",
        "outputId": "4b983085-60d6-4a29-b28c-1a69e354c367",
        "colab": {
          "base_uri": "https://localhost:8080/",
          "height": 373
        }
      },
      "execution_count": null,
      "outputs": [
        {
          "output_type": "error",
          "ename": "FileNotFoundError",
          "evalue": "[Errno 2] No such file or directory: 'updated_dataset.csv'",
          "traceback": [
            "\u001b[0;31m---------------------------------------------------------------------------\u001b[0m",
            "\u001b[0;31mFileNotFoundError\u001b[0m                         Traceback (most recent call last)",
            "\u001b[0;32m<ipython-input-7-ac9c460e1c33>\u001b[0m in \u001b[0;36m<cell line: 0>\u001b[0;34m()\u001b[0m\n\u001b[1;32m      5\u001b[0m \u001b[0;34m\u001b[0m\u001b[0m\n\u001b[1;32m      6\u001b[0m \u001b[0;31m# Step 1: Load and preprocess data\u001b[0m\u001b[0;34m\u001b[0m\u001b[0;34m\u001b[0m\u001b[0m\n\u001b[0;32m----> 7\u001b[0;31m \u001b[0mdata\u001b[0m \u001b[0;34m=\u001b[0m \u001b[0mpd\u001b[0m\u001b[0;34m.\u001b[0m\u001b[0mread_csv\u001b[0m\u001b[0;34m(\u001b[0m\u001b[0;34m\"updated_dataset.csv\"\u001b[0m\u001b[0;34m)\u001b[0m\u001b[0;34m\u001b[0m\u001b[0;34m\u001b[0m\u001b[0m\n\u001b[0m\u001b[1;32m      8\u001b[0m \u001b[0;34m\u001b[0m\u001b[0m\n\u001b[1;32m      9\u001b[0m \u001b[0;31m# Feature engineering\u001b[0m\u001b[0;34m\u001b[0m\u001b[0;34m\u001b[0m\u001b[0m\n",
            "\u001b[0;32m/usr/local/lib/python3.11/dist-packages/pandas/io/parsers/readers.py\u001b[0m in \u001b[0;36mread_csv\u001b[0;34m(filepath_or_buffer, sep, delimiter, header, names, index_col, usecols, dtype, engine, converters, true_values, false_values, skipinitialspace, skiprows, skipfooter, nrows, na_values, keep_default_na, na_filter, verbose, skip_blank_lines, parse_dates, infer_datetime_format, keep_date_col, date_parser, date_format, dayfirst, cache_dates, iterator, chunksize, compression, thousands, decimal, lineterminator, quotechar, quoting, doublequote, escapechar, comment, encoding, encoding_errors, dialect, on_bad_lines, delim_whitespace, low_memory, memory_map, float_precision, storage_options, dtype_backend)\u001b[0m\n\u001b[1;32m   1024\u001b[0m     \u001b[0mkwds\u001b[0m\u001b[0;34m.\u001b[0m\u001b[0mupdate\u001b[0m\u001b[0;34m(\u001b[0m\u001b[0mkwds_defaults\u001b[0m\u001b[0;34m)\u001b[0m\u001b[0;34m\u001b[0m\u001b[0;34m\u001b[0m\u001b[0m\n\u001b[1;32m   1025\u001b[0m \u001b[0;34m\u001b[0m\u001b[0m\n\u001b[0;32m-> 1026\u001b[0;31m     \u001b[0;32mreturn\u001b[0m \u001b[0m_read\u001b[0m\u001b[0;34m(\u001b[0m\u001b[0mfilepath_or_buffer\u001b[0m\u001b[0;34m,\u001b[0m \u001b[0mkwds\u001b[0m\u001b[0;34m)\u001b[0m\u001b[0;34m\u001b[0m\u001b[0;34m\u001b[0m\u001b[0m\n\u001b[0m\u001b[1;32m   1027\u001b[0m \u001b[0;34m\u001b[0m\u001b[0m\n\u001b[1;32m   1028\u001b[0m \u001b[0;34m\u001b[0m\u001b[0m\n",
            "\u001b[0;32m/usr/local/lib/python3.11/dist-packages/pandas/io/parsers/readers.py\u001b[0m in \u001b[0;36m_read\u001b[0;34m(filepath_or_buffer, kwds)\u001b[0m\n\u001b[1;32m    618\u001b[0m \u001b[0;34m\u001b[0m\u001b[0m\n\u001b[1;32m    619\u001b[0m     \u001b[0;31m# Create the parser.\u001b[0m\u001b[0;34m\u001b[0m\u001b[0;34m\u001b[0m\u001b[0m\n\u001b[0;32m--> 620\u001b[0;31m     \u001b[0mparser\u001b[0m \u001b[0;34m=\u001b[0m \u001b[0mTextFileReader\u001b[0m\u001b[0;34m(\u001b[0m\u001b[0mfilepath_or_buffer\u001b[0m\u001b[0;34m,\u001b[0m \u001b[0;34m**\u001b[0m\u001b[0mkwds\u001b[0m\u001b[0;34m)\u001b[0m\u001b[0;34m\u001b[0m\u001b[0;34m\u001b[0m\u001b[0m\n\u001b[0m\u001b[1;32m    621\u001b[0m \u001b[0;34m\u001b[0m\u001b[0m\n\u001b[1;32m    622\u001b[0m     \u001b[0;32mif\u001b[0m \u001b[0mchunksize\u001b[0m \u001b[0;32mor\u001b[0m \u001b[0miterator\u001b[0m\u001b[0;34m:\u001b[0m\u001b[0;34m\u001b[0m\u001b[0;34m\u001b[0m\u001b[0m\n",
            "\u001b[0;32m/usr/local/lib/python3.11/dist-packages/pandas/io/parsers/readers.py\u001b[0m in \u001b[0;36m__init__\u001b[0;34m(self, f, engine, **kwds)\u001b[0m\n\u001b[1;32m   1618\u001b[0m \u001b[0;34m\u001b[0m\u001b[0m\n\u001b[1;32m   1619\u001b[0m         \u001b[0mself\u001b[0m\u001b[0;34m.\u001b[0m\u001b[0mhandles\u001b[0m\u001b[0;34m:\u001b[0m \u001b[0mIOHandles\u001b[0m \u001b[0;34m|\u001b[0m \u001b[0;32mNone\u001b[0m \u001b[0;34m=\u001b[0m \u001b[0;32mNone\u001b[0m\u001b[0;34m\u001b[0m\u001b[0;34m\u001b[0m\u001b[0m\n\u001b[0;32m-> 1620\u001b[0;31m         \u001b[0mself\u001b[0m\u001b[0;34m.\u001b[0m\u001b[0m_engine\u001b[0m \u001b[0;34m=\u001b[0m \u001b[0mself\u001b[0m\u001b[0;34m.\u001b[0m\u001b[0m_make_engine\u001b[0m\u001b[0;34m(\u001b[0m\u001b[0mf\u001b[0m\u001b[0;34m,\u001b[0m \u001b[0mself\u001b[0m\u001b[0;34m.\u001b[0m\u001b[0mengine\u001b[0m\u001b[0;34m)\u001b[0m\u001b[0;34m\u001b[0m\u001b[0;34m\u001b[0m\u001b[0m\n\u001b[0m\u001b[1;32m   1621\u001b[0m \u001b[0;34m\u001b[0m\u001b[0m\n\u001b[1;32m   1622\u001b[0m     \u001b[0;32mdef\u001b[0m \u001b[0mclose\u001b[0m\u001b[0;34m(\u001b[0m\u001b[0mself\u001b[0m\u001b[0;34m)\u001b[0m \u001b[0;34m->\u001b[0m \u001b[0;32mNone\u001b[0m\u001b[0;34m:\u001b[0m\u001b[0;34m\u001b[0m\u001b[0;34m\u001b[0m\u001b[0m\n",
            "\u001b[0;32m/usr/local/lib/python3.11/dist-packages/pandas/io/parsers/readers.py\u001b[0m in \u001b[0;36m_make_engine\u001b[0;34m(self, f, engine)\u001b[0m\n\u001b[1;32m   1878\u001b[0m                 \u001b[0;32mif\u001b[0m \u001b[0;34m\"b\"\u001b[0m \u001b[0;32mnot\u001b[0m \u001b[0;32min\u001b[0m \u001b[0mmode\u001b[0m\u001b[0;34m:\u001b[0m\u001b[0;34m\u001b[0m\u001b[0;34m\u001b[0m\u001b[0m\n\u001b[1;32m   1879\u001b[0m                     \u001b[0mmode\u001b[0m \u001b[0;34m+=\u001b[0m \u001b[0;34m\"b\"\u001b[0m\u001b[0;34m\u001b[0m\u001b[0;34m\u001b[0m\u001b[0m\n\u001b[0;32m-> 1880\u001b[0;31m             self.handles = get_handle(\n\u001b[0m\u001b[1;32m   1881\u001b[0m                 \u001b[0mf\u001b[0m\u001b[0;34m,\u001b[0m\u001b[0;34m\u001b[0m\u001b[0;34m\u001b[0m\u001b[0m\n\u001b[1;32m   1882\u001b[0m                 \u001b[0mmode\u001b[0m\u001b[0;34m,\u001b[0m\u001b[0;34m\u001b[0m\u001b[0;34m\u001b[0m\u001b[0m\n",
            "\u001b[0;32m/usr/local/lib/python3.11/dist-packages/pandas/io/common.py\u001b[0m in \u001b[0;36mget_handle\u001b[0;34m(path_or_buf, mode, encoding, compression, memory_map, is_text, errors, storage_options)\u001b[0m\n\u001b[1;32m    871\u001b[0m         \u001b[0;32mif\u001b[0m \u001b[0mioargs\u001b[0m\u001b[0;34m.\u001b[0m\u001b[0mencoding\u001b[0m \u001b[0;32mand\u001b[0m \u001b[0;34m\"b\"\u001b[0m \u001b[0;32mnot\u001b[0m \u001b[0;32min\u001b[0m \u001b[0mioargs\u001b[0m\u001b[0;34m.\u001b[0m\u001b[0mmode\u001b[0m\u001b[0;34m:\u001b[0m\u001b[0;34m\u001b[0m\u001b[0;34m\u001b[0m\u001b[0m\n\u001b[1;32m    872\u001b[0m             \u001b[0;31m# Encoding\u001b[0m\u001b[0;34m\u001b[0m\u001b[0;34m\u001b[0m\u001b[0m\n\u001b[0;32m--> 873\u001b[0;31m             handle = open(\n\u001b[0m\u001b[1;32m    874\u001b[0m                 \u001b[0mhandle\u001b[0m\u001b[0;34m,\u001b[0m\u001b[0;34m\u001b[0m\u001b[0;34m\u001b[0m\u001b[0m\n\u001b[1;32m    875\u001b[0m                 \u001b[0mioargs\u001b[0m\u001b[0;34m.\u001b[0m\u001b[0mmode\u001b[0m\u001b[0;34m,\u001b[0m\u001b[0;34m\u001b[0m\u001b[0;34m\u001b[0m\u001b[0m\n",
            "\u001b[0;31mFileNotFoundError\u001b[0m: [Errno 2] No such file or directory: 'updated_dataset.csv'"
          ]
        }
      ]
    },
    {
      "cell_type": "code",
      "source": [],
      "metadata": {
        "id": "-NZW5Inc0QrO"
      },
      "execution_count": null,
      "outputs": []
    },
    {
      "cell_type": "markdown",
      "source": [
        "# *Explain formula for lanes*\n"
      ],
      "metadata": {
        "id": "FaQVIWABSv1I"
      }
    },
    {
      "cell_type": "code",
      "source": [
        "from google.colab import drive\n",
        "drive.mount('/content/drive')"
      ],
      "metadata": {
        "colab": {
          "base_uri": "https://localhost:8080/"
        },
        "id": "doQdeG_yfV9w",
        "outputId": "99230795-9081-4ba2-a6a5-bc2d4fa60b1c"
      },
      "execution_count": null,
      "outputs": [
        {
          "output_type": "stream",
          "name": "stdout",
          "text": [
            "Drive already mounted at /content/drive; to attempt to forcibly remount, call drive.mount(\"/content/drive\", force_remount=True).\n"
          ]
        }
      ]
    },
    {
      "cell_type": "markdown",
      "source": [],
      "metadata": {
        "id": "23Kl2PpoJXtq"
      }
    },
    {
      "cell_type": "markdown",
      "source": [
        "To estimate the number of lanes needed, first, predict future vehicle demand using the population growth formula. Then, calculate peak-hour traffic by multiplying future vehicles with the peak-hour factor (PHF). Next, determine lane requirements by dividing peak-hour traffic by the lane capacity. Finally, round up the result and consider adding extra lanes for future growth and heavy vehicles.  \n",
        "\n",
        "Formulas Used:\n",
        "1.\tFuture Vehicles:\n",
        "              Future Vehicles = Current Vehicles × (Future Population/Current Population)^α\n",
        "2.\tPeak Hour Traffic:\n",
        "              Peak Hour Traffic = Future Vehicles × PHF\n",
        "3.\tLanes Needed:\n",
        "              Lanes Needed = Peak Hour Traffic / Lane Capacity\n",
        "4.\tFinal Lanes (Rounded Up):\n",
        "              Final Lanes = ⌈Lanes Needed⌉\n"
      ],
      "metadata": {
        "id": "hv7yPdyIN0Ll"
      }
    },
    {
      "cell_type": "code",
      "source": [
        "import pandas as pd\n",
        "import numpy as np\n",
        "import math\n",
        "from sklearn.preprocessing import StandardScaler\n",
        "\n",
        "# Assuming existing models: best_gb_pop, best_gb_density, and scaler are already trained.\n",
        "\n",
        "# Step 1: Function to predict population and density (already defined)\n",
        "def predict_population_and_density(district, year, gender=None):\n",
        "    years_since_1961 = year - 1961\n",
        "    male_female_ratio = 1  # Default if gender is not specified\n",
        "\n",
        "    if gender == 'male':\n",
        "        male_female_ratio = data['Male_Female_Ratio'].mean()\n",
        "    elif gender == 'female':\n",
        "        male_female_ratio = 1 / data['Male_Female_Ratio'].mean()\n",
        "\n",
        "    input_data = pd.DataFrame({\n",
        "        'Years_Since_1961': [years_since_1961],\n",
        "        'Male_Female_Ratio': [male_female_ratio],\n",
        "        'Population_Growth_Rate': [0],  # Default growth rate\n",
        "        **{col: [0] for col in features_encoded.columns if col.startswith('District_')}\n",
        "    })\n",
        "    district_col = f'District_{district}'\n",
        "    if district_col in input_data.columns:\n",
        "        input_data[district_col] = 1\n",
        "\n",
        "    # Scale numerical features\n",
        "    input_data[['Years_Since_1961', 'Male_Female_Ratio', 'Population_Growth_Rate']] = scaler.transform(\n",
        "        input_data[['Years_Since_1961', 'Male_Female_Ratio', 'Population_Growth_Rate']]\n",
        "    )\n",
        "\n",
        "    # Predict population and density\n",
        "    population = best_gb_pop.predict(input_data)[0]\n",
        "    density = best_gb_density.predict(input_data)[0]\n",
        "\n",
        "    return population, density\n",
        "\n",
        "# Step 2: Function to predict the number of lanes\n",
        "def predict_lanes(district, future_year):\n",
        "    # Predict future population and density\n",
        "    predicted_population, predicted_density = predict_population_and_density(district, future_year)\n",
        "\n",
        "    # Base conditions\n",
        "    current_year = 2023\n",
        "    current_population = data[data['Census_Year'] == 2011]['Pop'].sum()  # Latest known census data\n",
        "    current_AVRR = data[data['District'] == district]['Average_Vehicle_Run_Rate'].mean()  # AVRR from dataset\n",
        "    lane_capacity = 1800  # vehicles per hour per lane\n",
        "    adjustment_factor = 0.85  # Real-world conditions factor\n",
        "\n",
        "    # Calculate growth rate and years into the future\n",
        "    g = (predicted_population - current_population) / current_population\n",
        "    n = future_year - current_year\n",
        "\n",
        "    # Projected vehicle run rate\n",
        "    future_AVRR = current_AVRR * ((1 + g) ** n)\n",
        "\n",
        "    # Lane requirement calculation with constraints\n",
        "    lanes_required = future_AVRR / (lane_capacity * adjustment_factor)\n",
        "\n",
        "    # Apply constraints: minimum 2 lanes, maximum 8 lanes before the next 15 years\n",
        "    lanes_required = math.ceil(lanes_required)\n",
        "    lanes_required = max(2, min(8, lanes_required))  # Constraint: 2 <= L <= 8\n",
        "\n",
        "    return lanes_required\n",
        "\n",
        "# Step 3: Predict lanes required for Bhopal-Indore highway in future years\n",
        "for year in range(2025, 2040, 5):  # Predicting every 5 years until 2040\n",
        "    lanes_bhopal = predict_lanes('Bhopal', year)\n",
        "    lanes_sehore = predict_lanes('Sehore', year)\n",
        "    print(f\"Lanes required for Bhopal-Indore highway in {year}: {max(lanes_bhopal, lanes_sehore)}\")"
      ],
      "metadata": {
        "colab": {
          "base_uri": "https://localhost:8080/",
          "height": 356
        },
        "id": "EG67M2QvguGE",
        "outputId": "1f6e6d63-c1b4-483e-ec34-9bc1e56d59ae"
      },
      "execution_count": null,
      "outputs": [
        {
          "output_type": "error",
          "ename": "NameError",
          "evalue": "name 'features_encoded' is not defined",
          "traceback": [
            "\u001b[0;31m---------------------------------------------------------------------------\u001b[0m",
            "\u001b[0;31mNameError\u001b[0m                                 Traceback (most recent call last)",
            "\u001b[0;32m<ipython-input-1-752464d981b8>\u001b[0m in \u001b[0;36m<cell line: 0>\u001b[0;34m()\u001b[0m\n\u001b[1;32m     67\u001b[0m \u001b[0;31m# Step 3: Predict lanes required for Bhopal-Indore highway in future years\u001b[0m\u001b[0;34m\u001b[0m\u001b[0;34m\u001b[0m\u001b[0m\n\u001b[1;32m     68\u001b[0m \u001b[0;32mfor\u001b[0m \u001b[0myear\u001b[0m \u001b[0;32min\u001b[0m \u001b[0mrange\u001b[0m\u001b[0;34m(\u001b[0m\u001b[0;36m2025\u001b[0m\u001b[0;34m,\u001b[0m \u001b[0;36m2040\u001b[0m\u001b[0;34m,\u001b[0m \u001b[0;36m5\u001b[0m\u001b[0;34m)\u001b[0m\u001b[0;34m:\u001b[0m  \u001b[0;31m# Predicting every 5 years until 2040\u001b[0m\u001b[0;34m\u001b[0m\u001b[0;34m\u001b[0m\u001b[0m\n\u001b[0;32m---> 69\u001b[0;31m     \u001b[0mlanes_bhopal\u001b[0m \u001b[0;34m=\u001b[0m \u001b[0mpredict_lanes\u001b[0m\u001b[0;34m(\u001b[0m\u001b[0;34m'Bhopal'\u001b[0m\u001b[0;34m,\u001b[0m \u001b[0myear\u001b[0m\u001b[0;34m)\u001b[0m\u001b[0;34m\u001b[0m\u001b[0;34m\u001b[0m\u001b[0m\n\u001b[0m\u001b[1;32m     70\u001b[0m     \u001b[0mlanes_sehore\u001b[0m \u001b[0;34m=\u001b[0m \u001b[0mpredict_lanes\u001b[0m\u001b[0;34m(\u001b[0m\u001b[0;34m'Sehore'\u001b[0m\u001b[0;34m,\u001b[0m \u001b[0myear\u001b[0m\u001b[0;34m)\u001b[0m\u001b[0;34m\u001b[0m\u001b[0;34m\u001b[0m\u001b[0m\n\u001b[1;32m     71\u001b[0m     \u001b[0mprint\u001b[0m\u001b[0;34m(\u001b[0m\u001b[0;34mf\"Lanes required for Bhopal-Indore highway in {year}: {max(lanes_bhopal, lanes_sehore)}\"\u001b[0m\u001b[0;34m)\u001b[0m\u001b[0;34m\u001b[0m\u001b[0;34m\u001b[0m\u001b[0m\n",
            "\u001b[0;32m<ipython-input-1-752464d981b8>\u001b[0m in \u001b[0;36mpredict_lanes\u001b[0;34m(district, future_year)\u001b[0m\n\u001b[1;32m     40\u001b[0m \u001b[0;32mdef\u001b[0m \u001b[0mpredict_lanes\u001b[0m\u001b[0;34m(\u001b[0m\u001b[0mdistrict\u001b[0m\u001b[0;34m,\u001b[0m \u001b[0mfuture_year\u001b[0m\u001b[0;34m)\u001b[0m\u001b[0;34m:\u001b[0m\u001b[0;34m\u001b[0m\u001b[0;34m\u001b[0m\u001b[0m\n\u001b[1;32m     41\u001b[0m     \u001b[0;31m# Predict future population and density\u001b[0m\u001b[0;34m\u001b[0m\u001b[0;34m\u001b[0m\u001b[0m\n\u001b[0;32m---> 42\u001b[0;31m     \u001b[0mpredicted_population\u001b[0m\u001b[0;34m,\u001b[0m \u001b[0mpredicted_density\u001b[0m \u001b[0;34m=\u001b[0m \u001b[0mpredict_population_and_density\u001b[0m\u001b[0;34m(\u001b[0m\u001b[0mdistrict\u001b[0m\u001b[0;34m,\u001b[0m \u001b[0mfuture_year\u001b[0m\u001b[0;34m)\u001b[0m\u001b[0;34m\u001b[0m\u001b[0;34m\u001b[0m\u001b[0m\n\u001b[0m\u001b[1;32m     43\u001b[0m \u001b[0;34m\u001b[0m\u001b[0m\n\u001b[1;32m     44\u001b[0m     \u001b[0;31m# Base conditions\u001b[0m\u001b[0;34m\u001b[0m\u001b[0;34m\u001b[0m\u001b[0m\n",
            "\u001b[0;32m<ipython-input-1-752464d981b8>\u001b[0m in \u001b[0;36mpredict_population_and_density\u001b[0;34m(district, year, gender)\u001b[0m\n\u001b[1;32m     20\u001b[0m         \u001b[0;34m'Male_Female_Ratio'\u001b[0m\u001b[0;34m:\u001b[0m \u001b[0;34m[\u001b[0m\u001b[0mmale_female_ratio\u001b[0m\u001b[0;34m]\u001b[0m\u001b[0;34m,\u001b[0m\u001b[0;34m\u001b[0m\u001b[0;34m\u001b[0m\u001b[0m\n\u001b[1;32m     21\u001b[0m         \u001b[0;34m'Population_Growth_Rate'\u001b[0m\u001b[0;34m:\u001b[0m \u001b[0;34m[\u001b[0m\u001b[0;36m0\u001b[0m\u001b[0;34m]\u001b[0m\u001b[0;34m,\u001b[0m  \u001b[0;31m# Default growth rate\u001b[0m\u001b[0;34m\u001b[0m\u001b[0;34m\u001b[0m\u001b[0m\n\u001b[0;32m---> 22\u001b[0;31m         \u001b[0;34m**\u001b[0m\u001b[0;34m{\u001b[0m\u001b[0mcol\u001b[0m\u001b[0;34m:\u001b[0m \u001b[0;34m[\u001b[0m\u001b[0;36m0\u001b[0m\u001b[0;34m]\u001b[0m \u001b[0;32mfor\u001b[0m \u001b[0mcol\u001b[0m \u001b[0;32min\u001b[0m \u001b[0mfeatures_encoded\u001b[0m\u001b[0;34m.\u001b[0m\u001b[0mcolumns\u001b[0m \u001b[0;32mif\u001b[0m \u001b[0mcol\u001b[0m\u001b[0;34m.\u001b[0m\u001b[0mstartswith\u001b[0m\u001b[0;34m(\u001b[0m\u001b[0;34m'District_'\u001b[0m\u001b[0;34m)\u001b[0m\u001b[0;34m}\u001b[0m\u001b[0;34m\u001b[0m\u001b[0;34m\u001b[0m\u001b[0m\n\u001b[0m\u001b[1;32m     23\u001b[0m     })\n\u001b[1;32m     24\u001b[0m     \u001b[0mdistrict_col\u001b[0m \u001b[0;34m=\u001b[0m \u001b[0;34mf'District_{district}'\u001b[0m\u001b[0;34m\u001b[0m\u001b[0;34m\u001b[0m\u001b[0m\n",
            "\u001b[0;31mNameError\u001b[0m: name 'features_encoded' is not defined"
          ]
        }
      ]
    },
    {
      "cell_type": "code",
      "source": [
        "#test nam\n"
      ],
      "metadata": {
        "id": "EKTzLr4GJw1q"
      },
      "execution_count": null,
      "outputs": []
    },
    {
      "cell_type": "code",
      "source": [
        "from google.colab import drive\n",
        "drive.mount('/content/drive')\n"
      ],
      "metadata": {
        "colab": {
          "base_uri": "https://localhost:8080/"
        },
        "id": "11vlUw3lb0sG",
        "outputId": "ba8efff7-9a67-49e5-8d91-467869be8a93"
      },
      "execution_count": null,
      "outputs": [
        {
          "output_type": "stream",
          "name": "stdout",
          "text": [
            "Mounted at /content/drive\n"
          ]
        }
      ]
    },
    {
      "cell_type": "code",
      "source": [
        "import math\n",
        "import pandas as pd\n",
        "import matplotlib.pyplot as plt\n",
        "\n",
        "# Load the datasets\n",
        "vehicle_df = pd.read_csv(\"/content/drive/MyDrive/average_run_rate.csv\")\n",
        "data = pd.read_csv(\"/content/drive/MyDrive/MPDecadeVarPop(1961-2011).csv\")\n",
        "\n",
        "# Clean column names\n",
        "vehicle_df.columns = vehicle_df.columns.str.strip()\n",
        "data.columns = data.columns.str.strip()\n",
        "\n",
        "def calculate_cagr(initial_value, final_value, years):\n",
        "    \"\"\"Calculate Compound Annual Growth Rate (CAGR)\"\"\"\n",
        "    # Handle zero or negative initial value to prevent errors\n",
        "    if initial_value <= 0:\n",
        "        return 0  # or another suitable default value\n",
        "    return ((final_value / initial_value) ** (1 / years)) - 1\n",
        "\n",
        "def estimate_lanes(district, predicted_population, future_year, lane_capacity=2000, phf=0.15):\n",
        "    \"\"\"\n",
        "    Estimates the required lanes based on predicted population growth and vehicle demand using CAGR.\n",
        "    Assumes the latest available data in 'data' is the current population.\n",
        "    \"\"\"\n",
        "\n",
        "    # Get the latest population for the district\n",
        "    district_data = data[data[\"District\"] == district]\n",
        "    if district_data.empty:\n",
        "        raise ValueError(f\"District '{district}' not found in dataset\")\n",
        "\n",
        "    # Assuming the last entry for the district has the latest population\n",
        "    # Convert the population value to a numeric type\n",
        "    current_population = pd.to_numeric(district_data[\"Pop\"].iloc[-1], errors='coerce')\n",
        "\n",
        "    # Get vehicle run rate for district\n",
        "    # Check if the district is in the vehicle_df, handle case sensitivity\n",
        "    vehicle_row = vehicle_df[vehicle_df[\"District\"].str.lower() == district.lower()]\n",
        "    if vehicle_row.empty:\n",
        "        raise ValueError(f\"District '{district}' not found in vehicle dataset\")\n",
        "\n",
        "    initial_vrr = vehicle_row[\"Average_Vehicle_Run_Rate\"].values[0]  # VRR in 2011 (or the year of your data)\n",
        "\n",
        "    # Calculate CAGR for population growth\n",
        "    years_passed = future_year - 2011  # Assuming your base year is 2011 (or adjust as needed)\n",
        "    cagr_population = calculate_cagr(current_population, predicted_population, years_passed)\n",
        "\n",
        "    # Predict future VRR using CAGR\n",
        "    future_vrr = initial_vrr * ((1 + cagr_population) ** years_passed)\n",
        "\n",
        "    # Peak hour traffic estimation\n",
        "    peak_hour_traffic = future_vrr * phf  # Adjusted for peak hours\n",
        "\n",
        "    # Lanes required, handle potential NaN values\n",
        "    lanes_needed = math.ceil(peak_hour_traffic / lane_capacity) if not math.isnan(peak_hour_traffic) else 2 # Default to 2 lanes if NaN\n",
        "\n",
        "    return lanes_needed\n",
        "\n",
        "# Test Case: Estimating lanes for Sehore district\n",
        "district = \"Sehore\"\n",
        "future_years = [2025, 2030, 2035, 2040]\n",
        "future_populations = [1600000, 1700000, 1850000, 2000000]  # Replace with ML predictions\n",
        "\n",
        "lanes_needed_per_year = [estimate_lanes(district, pop, year) for pop, year in zip(future_populations, future_years)]\n",
        "\n",
        "# Plot lane requirements over time\n",
        "plt.figure(figsize=(10, 5))\n",
        "plt.plot(future_years, lanes_needed_per_year, marker='o', color='green', label='Lane Requirements')\n",
        "plt.xlabel(\"Year\")\n",
        "plt.ylabel(\"Lanes Required\")\n",
        "plt.title(f\"Projected Road Lane Requirements for {district}\")\n",
        "plt.legend()\n",
        "plt.grid()\n",
        "plt.show()"
      ],
      "metadata": {
        "colab": {
          "base_uri": "https://localhost:8080/",
          "height": 360
        },
        "id": "pyN9yiDmXjMv",
        "outputId": "7234337b-83a0-44ef-c5e7-f7f1305d9095"
      },
      "execution_count": null,
      "outputs": [
        {
          "output_type": "display_data",
          "data": {
            "text/plain": [
              "<Figure size 1000x500 with 1 Axes>"
            ],
            "image/png": "[encoded data removed]"
          },
          "metadata": {}
        }
      ]
    },
    {
      "cell_type": "markdown",
      "source": [
        "Taking some new Assumptions"
      ],
      "metadata": {
        "id": "IXCCya1d2d_R"
      }
    },
    {
      "cell_type": "code",
      "source": [
        "import math\n",
        "import pandas as pd\n",
        "\n",
        "# Load the datasets\n",
        "vehicle_df = pd.read_csv(\"/content/drive/MyDrive/average_run_rate.csv\")\n",
        "data = pd.read_csv(\"/content/drive/MyDrive/MPDecadeVarPop(1961-2011).csv\")\n",
        "\n",
        "# Clean column names\n",
        "vehicle_df.columns = vehicle_df.columns.str.strip()\n",
        "data.columns = data.columns.str.strip()\n",
        "\n",
        "def calculate_cagr(initial_value, final_value, years):\n",
        "    \"\"\"Calculate Compound Annual Growth Rate (CAGR)\"\"\"\n",
        "    if initial_value <= 0 or years <= 0:\n",
        "        return 0\n",
        "    return ((final_value / initial_value) ** (1 / years)) - 1\n",
        "\n",
        "def estimate_lanes(district, predicted_population, future_year, lane_capacity=1000, phf=0.4):\n",
        "    \"\"\"\n",
        "    Estimates required lanes based on predicted population growth and vehicle demand using CAGR.\n",
        "    \"\"\"\n",
        "    district_data = data[data[\"District\"] == district]\n",
        "    if district_data.empty:\n",
        "        raise ValueError(f\"District '{district}' not found in dataset\")\n",
        "\n",
        "    current_population = pd.to_numeric(district_data[\"Pop\"].iloc[-1], errors='coerce')\n",
        "\n",
        "    vehicle_row = vehicle_df[vehicle_df[\"District\"].str.lower() == district.lower()]\n",
        "    if vehicle_row.empty:\n",
        "        raise ValueError(f\"District '{district}' not found in vehicle dataset\")\n",
        "\n",
        "    initial_vrr = vehicle_row[\"Average_Vehicle_Run_Rate\"].values[0]\n",
        "\n",
        "    years_passed = future_year - 2011\n",
        "    cagr_population = calculate_cagr(current_population, predicted_population, years_passed)\n",
        "\n",
        "    # **Override CAGR to simulate rapid urbanization**\n",
        "    cagr_population = max(cagr_population, 0.03)  # Assume at least 3% annual growth\n",
        "\n",
        "    future_vrr = initial_vrr * ((1 + cagr_population) ** years_passed)\n",
        "\n",
        "    peak_hour_traffic = future_vrr * phf\n",
        "\n",
        "    # Round off to the nearest integer\n",
        "    lanes_needed = round(peak_hour_traffic / lane_capacity) if not math.isnan(peak_hour_traffic) else 2\n",
        "\n",
        "    return int(lanes_needed)\n",
        "\n",
        "# Test Case: Sehore with modified assumptions\n",
        "district = \"Sehore\"\n",
        "future_years = [2025, 2030, 2035, 2040]\n",
        "future_populations = [1600000, 1700000, 1850000, 2000000]\n",
        "\n",
        "lanes_needed_per_year = [estimate_lanes(district, pop, year) for pop, year in zip(future_populations, future_years)]\n",
        "\n",
        "# **Print New Lane Requirements**\n",
        "for year, lanes in zip(future_years, lanes_needed_per_year):\n",
        "    print(f\"Year: {year}, Lanes Required: {lanes}\")\n"
      ],
      "metadata": {
        "colab": {
          "base_uri": "https://localhost:8080/"
        },
        "id": "QXHH4_Qo2dPI",
        "outputId": "0bf4b707-eafd-4dd3-98fb-3a01bfd6d85d"
      },
      "execution_count": null,
      "outputs": [
        {
          "output_type": "stream",
          "name": "stdout",
          "text": [
            "Year: 2025, Lanes Required: 2\n",
            "Year: 2030, Lanes Required: 2\n",
            "Year: 2035, Lanes Required: 2\n",
            "Year: 2040, Lanes Required: 2\n"
          ]
        }
      ]
    },
    {
      "cell_type": "code",
      "source": [
        "import math\n",
        "import pandas as pd\n",
        "import time\n",
        "import random\n",
        "\n",
        "try:\n",
        "    # Load the datasets\n",
        "    vehicle_df = pd.read_csv(\"/content/drive/MyDrive/average_run_rate.csv\")\n",
        "    data = pd.read_csv(\"/content/drive/MyDrive/MPDecadeVarPop(1961-2011).csv\")\n",
        "\n",
        "    # Clean column names\n",
        "    vehicle_df.columns = vehicle_df.columns.str.strip()\n",
        "    data.columns = data.columns.str.strip()\n",
        "\n",
        "    #print the data\n",
        "\n",
        "    print(\"Data loaded successfully.\")\n",
        "\n",
        "    def calculate_cagr(initial_value, final_value, years):\n",
        "        \"\"\"Calculate Compound Annual Growth Rate (CAGR)\"\"\"\n",
        "        if initial_value <= 0 or years <= 0:\n",
        "            return 0\n",
        "        return ((final_value / initial_value) ** (1 / years)) - 1\n",
        "\n",
        "    def estimate_lanes(district, predicted_population, future_year, phf=0.4):\n",
        "        \"\"\"\n",
        "        Estimates required lanes based on predicted population growth and vehicle demand using CAGR.\n",
        "        \"\"\"\n",
        "        # Try to find correct population column\n",
        "        possible_cols = ['Population', 'Total Population', 'Pop', 'population']\n",
        "        population_col = next((col for col in possible_cols if col in data.columns), None)\n",
        "\n",
        "        if population_col is None:\n",
        "            raise ValueError(\"No suitable 'Population' column found in dataset.\")\n",
        "\n",
        "        district_data = data[data[\"District\"].str.lower() == district.lower()]\n",
        "        if district_data.empty:\n",
        "            raise ValueError(f\"District '{district}' not found in dataset.\")\n",
        "\n",
        "        current_population = pd.to_numeric(district_data[population_col].iloc[-1], errors='coerce')\n",
        "\n",
        "        vehicle_row = vehicle_df[vehicle_df[\"District\"].str.lower() == district.lower()]\n",
        "        if vehicle_row.empty:\n",
        "            raise ValueError(f\"District '{district}' not found in vehicle dataset.\")\n",
        "\n",
        "        initial_vrr = vehicle_row[\"Average_Vehicle_Run_Rate\"].values[0]\n",
        "\n",
        "        # Find latest year dynamically from the columns\n",
        "        years = [int(col) for col in data.columns if col.isdigit()]\n",
        "        if not years:\n",
        "            base_year = 2011\n",
        "        else:\n",
        "            base_year = max(years)\n",
        "\n",
        "        years_passed = future_year - base_year\n",
        "        cagr_population = calculate_cagr(current_population, predicted_population, years_passed)\n",
        "\n",
        "        # Simulate rapid urbanization: at least 3% CAGR\n",
        "        cagr_population = max(cagr_population, 0.03)\n",
        "\n",
        "        future_vrr = initial_vrr * ((1 + cagr_population) ** years_passed)\n",
        "\n",
        "        # Random lane capacity between 4500-5000\n",
        "        lane_capacity = random.randint(4500, 5000)\n",
        "\n",
        "        peak_hour_traffic = future_vrr * phf\n",
        "\n",
        "        # Lanes needed (rounded up)\n",
        "        lanes_needed = math.ceil(peak_hour_traffic / lane_capacity)\n",
        "\n",
        "        return int(lanes_needed)\n",
        "\n",
        "    # Inputs\n",
        "    district = \"Bhopal\"\n",
        "    predicted_population = 3000000  # For example\n",
        "    future_year = 2035\n",
        "\n",
        "    lanes = estimate_lanes(district, predicted_population, future_year)\n",
        "    print(f\"\\nEstimated number of lanes needed for {district} by {future_year}: {lanes}\")\n",
        "\n",
        "except Exception as e:\n",
        "    print(f\"\\nError estimating lanes: {e}\")\n",
        "\n",
        "finally:\n",
        "    current_time = time.strftime(\"%Y-%m-%d %H:%M:%S\", time.localtime())\n",
        "    print(f\"\\nEstimation attempted for district '{district}' at {current_time}\")\n"
      ],
      "metadata": {
        "colab": {
          "base_uri": "https://localhost:8080/"
        },
        "id": "r7pt5urE0E5x",
        "outputId": "400e394b-c2c7-4bd0-90cf-b20d472ee3a7"
      },
      "execution_count": null,
      "outputs": [
        {
          "output_type": "stream",
          "name": "stdout",
          "text": [
            "Data loaded successfully.\n",
            "\n",
            "Error estimating lanes: cannot convert float NaN to integer\n",
            "\n",
            "Estimation attempted for district 'Bhopal' at 2025-04-10 17:36:45\n"
          ]
        }
      ]
    },
    {
      "cell_type": "code",
      "source": [
        "def calculate_required_lanes(\n",
        "    population,\n",
        "    vehicle_ownership_rate=0.2,   # default 20% people have vehicles\n",
        "    active_percentage=0.05,       # default 5% vehicles active at peak\n",
        "    vehicles_per_lane_per_hour=1000  # default 1000 vehicles can be handled by 1 lane per hour\n",
        "):\n",
        "    # Step 1: Total vehicles\n",
        "    total_vehicles = population * vehicle_ownership_rate\n",
        "\n",
        "    # Step 2: Vehicles active during peak hours\n",
        "    active_vehicles = total_vehicles * active_percentage\n",
        "\n",
        "    # Step 3: Required lanes\n",
        "    required_lanes = active_vehicles / vehicles_per_lane_per_hour\n",
        "\n",
        "    # Step 4: Output\n",
        "    print(f\" Population: {population}\")\n",
        "    print(f\" Estimated Total Vehicles: {int(total_vehicles)}\")\n",
        "    print(f\" Estimated Active Vehicles (during peak hour): {int(active_vehicles)}\")\n",
        "    print(f\" Required Lanes (both sides total): {required_lanes:.2f}\")\n",
        "\n",
        "    return required_lanes\n",
        "\n",
        "\n",
        "# Example usage:\n",
        "# Sehore details\n",
        "sehore_population = 1311008  # population of Sehore district\n",
        "\n",
        "# Call the function\n",
        "required_lanes_sehore = calculate_required_lanes(sehore_population)\n",
        "\n",
        "# Optional: Round up to nearest whole lane\n",
        "import math\n",
        "required_lanes_rounded = math.ceil(required_lanes_sehore)\n",
        "print(f\"\\n✅ Final Recommendation: {required_lanes_rounded} lanes total (e.g., {required_lanes_rounded//2} lanes each side)\")\n"
      ],
      "metadata": {
        "id": "fFmxP1mDL3sp",
        "colab": {
          "base_uri": "https://localhost:8080/"
        },
        "outputId": "61a15ca6-39b8-4a82-cebc-7e02b1011a52"
      },
      "execution_count": null,
      "outputs": [
        {
          "output_type": "stream",
          "name": "stdout",
          "text": [
            " Population: 1311008\n",
            " Estimated Total Vehicles: 262201\n",
            " Estimated Active Vehicles (during peak hour): 13110\n",
            " Required Lanes (both sides total): 13.11\n",
            "\n",
            "✅ Final Recommendation: 14 lanes total (e.g., 7 lanes each side)\n"
          ]
        }
      ]
    },
    {
      "cell_type": "markdown",
      "source": [
        "With graph over year with increasing peak hour traffic"
      ],
      "metadata": {
        "id": "iZSUObpt67yl"
      }
    },
    {
      "cell_type": "code",
      "source": [
        "import math\n",
        "import matplotlib.pyplot as plt\n",
        "\n",
        "def calculate_required_lanes(\n",
        "    population,\n",
        "    vehicle_ownership_rate=0.2,   # default 20% people have vehicles\n",
        "    active_percentage=0.05,       # default 5% vehicles active at peak\n",
        "    vehicles_per_lane_per_hour=1000  # default 1000 vehicles can be handled by 1 lane per hour\n",
        "):\n",
        "    total_vehicles = population * vehicle_ownership_rate\n",
        "    active_vehicles = total_vehicles * active_percentage\n",
        "    required_lanes = active_vehicles / vehicles_per_lane_per_hour\n",
        "\n",
        "    print(f\"📊 Population: {population}\")\n",
        "    print(f\"🚗 Estimated Total Vehicles: {int(total_vehicles)}\")\n",
        "    print(f\"🚦 Estimated Active Vehicles (during peak hour): {int(active_vehicles)}\")\n",
        "    print(f\"🛣️ Required Lanes (both sides total): {required_lanes:.2f}\")\n",
        "\n",
        "    return required_lanes\n",
        "\n",
        "\n",
        "# Example: Sehore\n",
        "sehore_population = 1311008\n",
        "\n",
        "# Calculate\n",
        "required_lanes_sehore = calculate_required_lanes(sehore_population)\n",
        "required_lanes_rounded = math.ceil(required_lanes_sehore)\n",
        "print(f\"\\n✅ Final Recommendation: {required_lanes_rounded} lanes total (e.g., {required_lanes_rounded//2} lanes each side)\")\n",
        "\n",
        "# ----- Now let's create the graph! -----\n",
        "\n",
        "# Traffic scenarios: Vary active percentage from 2% to 10%\n",
        "active_percentages = [i/100 for i in range(2, 11)]  # 2%, 3%, ..., 10%\n",
        "required_lanes_list = []\n",
        "\n",
        "for active_pct in active_percentages:\n",
        "    lanes = calculate_required_lanes(\n",
        "        sehore_population,\n",
        "        vehicle_ownership_rate=0.2,\n",
        "        active_percentage=active_pct,\n",
        "        vehicles_per_lane_per_hour=1000\n",
        "    )\n",
        "    required_lanes_list.append(math.ceil(lanes))\n",
        "\n",
        "# Plotting\n",
        "plt.figure(figsize=(10,6))\n",
        "plt.plot([p*100 for p in active_percentages], required_lanes_list, marker='o', linestyle='-', color='blue')\n",
        "\n",
        "plt.title('📈 Traffic Load vs Required Number of Lanes for Sehore', fontsize=16)\n",
        "plt.xlabel('Active Vehicle Percentage at Peak Hour (%)', fontsize=14)\n",
        "plt.ylabel('Required Number of Lanes (both sides)', fontsize=14)\n",
        "plt.grid(True, linestyle='--', alpha=0.7)\n",
        "plt.xticks(range(2, 11))\n",
        "plt.yticks(range(min(required_lanes_list)-1, max(required_lanes_list)+2))\n",
        "plt.show()\n"
      ],
      "metadata": {
        "colab": {
          "base_uri": "https://localhost:8080/",
          "height": 1000
        },
        "id": "RVdvOtSF6PPS",
        "outputId": "ea67271a-e7f1-4ae4-f1b4-d214df1fa2ee"
      },
      "execution_count": null,
      "outputs": [
        {
          "output_type": "stream",
          "name": "stdout",
          "text": [
            "📊 Population: 1311008\n",
            "🚗 Estimated Total Vehicles: 262201\n",
            "🚦 Estimated Active Vehicles (during peak hour): 13110\n",
            "🛣️ Required Lanes (both sides total): 13.11\n",
            "\n",
            "✅ Final Recommendation: 14 lanes total (e.g., 7 lanes each side)\n",
            "📊 Population: 1311008\n",
            "🚗 Estimated Total Vehicles: 262201\n",
            "🚦 Estimated Active Vehicles (during peak hour): 5244\n",
            "🛣️ Required Lanes (both sides total): 5.24\n",
            "📊 Population: 1311008\n",
            "🚗 Estimated Total Vehicles: 262201\n",
            "🚦 Estimated Active Vehicles (during peak hour): 7866\n",
            "🛣️ Required Lanes (both sides total): 7.87\n",
            "📊 Population: 1311008\n",
            "🚗 Estimated Total Vehicles: 262201\n",
            "🚦 Estimated Active Vehicles (during peak hour): 10488\n",
            "🛣️ Required Lanes (both sides total): 10.49\n",
            "📊 Population: 1311008\n",
            "🚗 Estimated Total Vehicles: 262201\n",
            "🚦 Estimated Active Vehicles (during peak hour): 13110\n",
            "🛣️ Required Lanes (both sides total): 13.11\n",
            "📊 Population: 1311008\n",
            "🚗 Estimated Total Vehicles: 262201\n",
            "🚦 Estimated Active Vehicles (during peak hour): 15732\n",
            "🛣️ Required Lanes (both sides total): 15.73\n",
            "📊 Population: 1311008\n",
            "🚗 Estimated Total Vehicles: 262201\n",
            "🚦 Estimated Active Vehicles (during peak hour): 18354\n",
            "🛣️ Required Lanes (both sides total): 18.35\n",
            "📊 Population: 1311008\n",
            "🚗 Estimated Total Vehicles: 262201\n",
            "🚦 Estimated Active Vehicles (during peak hour): 20976\n",
            "🛣️ Required Lanes (both sides total): 20.98\n",
            "📊 Population: 1311008\n",
            "🚗 Estimated Total Vehicles: 262201\n",
            "🚦 Estimated Active Vehicles (during peak hour): 23598\n",
            "🛣️ Required Lanes (both sides total): 23.60\n",
            "📊 Population: 1311008\n",
            "🚗 Estimated Total Vehicles: 262201\n",
            "🚦 Estimated Active Vehicles (during peak hour): 26220\n",
            "🛣️ Required Lanes (both sides total): 26.22\n"
          ]
        },
        {
          "output_type": "stream",
          "name": "stderr",
          "text": [
            "/usr/local/lib/python3.11/dist-packages/IPython/core/pylabtools.py:151: UserWarning: Glyph 128200 (\\N{CHART WITH UPWARDS TREND}) missing from font(s) DejaVu Sans.\n",
            "  fig.canvas.print_figure(bytes_io, **kw)\n"
          ]
        },
        {
          "output_type": "display_data",
          "data": {
            "text/plain": [
              "<Figure size 1000x600 with 1 Axes>"
            ],
            "image/png": "[encoded data removed]"
          },
          "metadata": {}
        }
      ]
    },
    {
      "cell_type": "markdown",
      "source": [],
      "metadata": {
        "id": "ZIiNcoUXxG_1"
      }
    }
  ]
}